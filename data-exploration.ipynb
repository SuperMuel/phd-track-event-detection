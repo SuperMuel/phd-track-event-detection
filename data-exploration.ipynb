{
 "cells": [
  {
   "cell_type": "code",
   "execution_count": 41,
   "metadata": {},
   "outputs": [],
   "source": [
    "import matplotlib.pyplot as plt\n",
    "import numpy as np\n",
    "import seaborn as sns\n",
    "import pandas as pd"
   ]
  },
  {
   "cell_type": "markdown",
   "metadata": {},
   "source": [
    "# Loading data\n",
    "\n",
    "Data can be downloaded as a `zip` file at https://drive.google.com/file/d/1h0ThrK252cyeJr4TwkqQCNKJhGMji-4B/view?usp=sharing\n",
    "\n",
    "It contains the following files:\n",
    "- `newspapers.jsonl` 190MB, 100 000 articles \n",
    "- `newspapers_sample.jsonl` 200KB, 100 articles\n",
    "\n",
    "Extract them to the project's root directory.\n",
    "\n",
    "JSONL is a file format that contains a sequence of JSON objects, each object in a separate line."
   ]
  },
  {
   "cell_type": "code",
   "execution_count": 42,
   "metadata": {},
   "outputs": [
    {
     "data": {
      "text/plain": [
       "[{'text': 'On ne s’attendait pas du tout à trouver une ville aussi jolie entourée de remparts. » La surprise émerveille plus d’un touriste, qu’il soit français ou étranger, quand il découvre Angoulême. Le Plateau et ses ruelles surprennent. Et surtout séduisent. Notamment les étrangers dont on fête le grand retour, cette année, après deux étés de disette en raison de la crise sanitaire.\\n\\nBelges, Britanniques et Néerlandais constituent le hit de parade des nationalités représentées depuis début juillet. On croise également des Espagnols, des Italiens et quelques Nord-Américains. Et même des Danois, accueillis pour la première fois au Musée d’art et d’histoire de la ville. « Peut-être grâce au Tour de France ! », avance-t-on dans un sourire à l’accueil.\\n\\nLes Anglo-Saxons et les vieilles pierres\\n\\nDifficile de dire si le label « Ville créative », délivré par l’Unesco fin 2019, pèse sur la venue d’étrangers dans la ville. Peu semblent au courant de cette reconnaissance. S’ils s’arrêtent à Angoulême, pour quelques heures ou quelques jours, c’est le plus souvent sur la route d’une autre destination: l’océan ou la Dordogne.\\n\\nMais que viennent chercher ces touristes à Angoulême ? À l’office de tourisme, la BD, son musée et les murs peints arrivent en tête des demandes de renseignements. Suivis de la cathédrale Saint-Pierre et de l’hôtel de ville. Ces derniers sont particulièrement prisés des Anglo-Saxons. À l’image de Sue et Andrew Watson, Anglais de Manchester croisés à la sortie de la cathédrale, qui voulaient découvrir autre chose que le Périgord où ils ont leurs habitudes estivales. « C’est magnifique, on ne s’attendait pas à voir autant de vieux bâtiments et beaux monuments », soufflent-ils. C’est en regardant une carte qu’ils ont eu l’idée de venir passer une journée à Angoulême.\\n\\nLiz, une Canadienne de Winnipeg, est de passage pour une semaine chez une amie angoumoisine. « Je veux profiter de mon séjour pour découvrir l’histoire de la ville que racontent toutes ces bâtiments et la cathédrale », glisse-t-elle, en admiration devant la façade de l’hôtel de ville.\\n\\nInternationale BD\\n\\nVeerle et Serge Liberloo, un couple de Belges flamands, originaire du Limbourg près des Pays-Bas, découvrent Angoulême. « C’est même la première fois que l’on vient en France, à part à Paris. On est sous le charme de la ville », apprécient-ils. Si la campagne environnante, avec « ses tournesols et des vaches plus petites que chez nous », leur plaît également, ils ont choisi Angoulême comme destination pour la BD. Notamment grâce à leur fille Liselotte, « passionnée de bande dessinée et de tous les arts en général ». Casque audio sur les oreilles, les Liberloo s’engouffrent dans les salles climatisées du musée. Non sans avoir immortalisé l’instant avec le photomaton installé à l’entrée !\\n\\nMême motivation pour Domenico Rossi et son fils Enzo, Italiens de Bologne. Fans de BD, ils profitent de leur périple dans le Sud-Ouest pour faire un crochet par Angoulême et son musée. Montserrat Anchuelo est aussi venue pour les « comics », depuis Madrid avec son mari et ses deux fils. Après Carcassonne et Albi les années précédentes et Périgueux, où les Anchuelo ont installé cet été leur camp de base, pas question de rater la capitale internationale de la BD. Le musée - « où la fréquentation, notamment d’étrangers, a dépassé celle de juillet 2019 », glisse Maël Ranoux, le directeur de la lecture publique de la Cité de la BD - a d’ailleurs pour la première fois édité un guide papier en espagnol. Un signe.\\n\\nAnke Braatz est Allemande. Elle accompagne Xavier Bordenave, un banlieusard parisien qui tenait à lui faire visiter la ville sous laquelle il est tombé sous le charme il y a une quinzaine d’années quand il y a travaillé. Après avoir découvert la place du Minage, Anke veut surtout profiter de son passage « pour aller visiter le musée de la BD dont j’ai déjà entendu parler ».\\n\\nC’est magnifique, on ne s’attendait pas à voir autant de vieux bâtiments.',\n",
       "  'title': 'Pourquoi Angoulême attire les touristes étrangers',\n",
       "  'date': '2022-08-10T00:00:00.000',\n",
       "  'article': 'https://www.charentelibre.fr/charente/angouleme/pourquoi-angouleme-attire-les-touristes-etrangers-11844486.php'},\n",
       " {'text': \"Coup de théâtre à la CGT. Sophie Binet a été élue secrétaire générale de la Confédération, en remplacement de Philippe Martinez lors du 53e congrès confédéral de la centrale syndicale à Clermont-Ferrand, a-t-on appris auprès de délégués CGT, ce vendredi 31 mars.\\n\\nLire aussiRéforme des retraites: et si la CGT faisait un cadeau au gouvernement pour son 53e congrès?\\n\\nLa nouvelle équipe dirigeante, composée du secrétaire général, de l'administrateur et du bureau exécutif, devrait être présentée aux congressistes ce vendredi, avant une conférence de presse prévue à midi. Il s'agit de la première femme à occuper ce poste depuis la création de l'organisation en 1895, ont indiqué des membres de la direction à l'AFP. Philippe Martinez a occupé ce poste pendant deux mandats, depuis 2015.\\n\\nDésaveu du choix de Martinez\\n\\nCette élection survient au terme d'une nuit d'intenses tractations au cours de laquelle aucune des deux candidates jusqu'alors pressenties, Marie Buisson, la dauphine du secrétaire général sortant Philippe Martinez, et Céline Verzeletti, ne sont parvenues à faire consensus sur leur nom.\\n\\nCe coup de théâtre survient après une semaine de congrès houleux, en pleine bataille contre la réforme des retraites. Lors du congrès, le rapport d'activité du mandat de Philippe Martinez a été rejeté, mardi 28 mars, à une courte majorité de 50,32%, handicapant de facto sa candidate Marie Buisson, au profit de Sophie Binet.\\n\\nLire aussiRemous à la CGT au sujet de la succession de Philippe Martinez\\n\\nEn février déjà, dix-huit fédérations - sur les 33 que compte la CGT -, soit les deux tiers des adhérents, lui avaient écrit pour affirmer leur désaccord de voir Marie Buisson, 54 ans, prendre la relève. Elles craignaient notamment un « risque de fractures qui pourraient se creuser dans la CGT en cas de « direction mal élue ou pas élue », écrivaient ces fédérations.\\n\\n« Marie Buisson pâtit d'un débat que n'a pas voulu trancher Philippe Martinez, celui de la ligne de la CGT », expliquait un bon connaisseur du syndicat à La Tribune. « Cela fait de nombreuses années que le syndicat est tiraillé entre ; d'un côté, les tenants d'une ligne dure, ancrée dans la lutte des classes, pour le nucléaire qui maintient des emplois industriels, qui ne fait ni de concessions avec le gouvernement, ni d'alliances avec la CFDT, et de l'autre, une ligne plus ouverte, sur la discussion, les rapprochements avec d'autres centrales, etc. », a-t-il ajouté.\\n\\nUne ex-cheffe de l'Ugict à la barre de la CGT\\n\\nSophie Binet, née en 1982, est une ancienne membre du syndicat étudiant Unef et ancienne CPE (conseillère principale d'orientation). Elle était à la tête de la Fédération des cadres Ugict, depuis 2018. Issue de la Commission exécutive confédérale, la direction élargie de la CGT, elle était référente du collectif femmes mixité, et engagée sur les questions environnementales et l'égalité hommes-femmes\\n\\nCandidate « par défaut » selon certains, elle aura la lourde tâche de recoller les morceaux d'une CGT profondément divisée, à un moment où la centrale est en première ligne dans la lutte contre la réforme des retraites.\\n\\nLes syndicats sont conviés la semaine prochaine à Matignon pour discuter de questions liées au travail, là où les centrales aimeraient remettre en cause le contenu de la réforme des retraites validée par le Parlement mais pas encore promulguée.\\n\\n(Avec agences)\",\n",
       "  'title': 'CGT : Sophie Binet prend la tête de la Confédération',\n",
       "  'date': '2023-03-31T00:00:00.000',\n",
       "  'article': 'https://www.latribune.fr/economie/france/cgt-sophie-binet-prend-la-tete-de-la-confederation-contre-l-avis-de-philippe-martinez-957355.html'},\n",
       " {'text': 'Dernierement sest deroule le lancement des travaux de lavenue des Marendes, en presence de Theophile Martinez, vice-president de Perpignan Mediterranee metropole, dEdmond Jorda, maire, et de Manuela Basty, maire du Conseil municipal des enfants (CME). Ils ont tous les trois donne le premier coup de pelle pour inaugurer le demarrage du chantier sur cet axe. Le projet impulse par le premier magistrat et son conseil municipal est soutenu par Perpignan Mediterranee metropole et lEtat (dans le cadre du Projet partenarial damenagement-PPA), avec la participation financiere du Departement des Pyrenees-Orientales.\\n\\nLa requalification de lavenue des Marendes est un projet urbain social et economique dont les objectifs sont dengager une revitalisation economique et commerciale, de recreer un ensemble harmonieux, de permettre un acces direct et qualitatif a la mer en priorisant les cheminements actifs, mais egalement de recreer une coherence spatiale globale avec des ambiances differentes et offrir un cadre de vie propice aux echanges.\\n\\nLes travaux ont commence ce mois de fevrier et devraient se terminer en 2025. Ils seront suspendus durant la periode estivale.\\n\\nCapsule temporelle\\n\\nA loccasion de ce lancement, les elus du CME ont souhaite enfouir une capsule temporelle, une maniere de temoigner dans le futur du Sainte-Marie-la-Mer daujourdhui. \"Nous avons choisi de mettre dans cette capsule temporelle, la carte de vux 2022 de la commune, que nous avons tous signes, ainsi quun un petit parchemin avec les empreintes digitales de chaque membre du CME sur lequel est ecrit : Meme le plus petit des doigts laisse une empreinte sur cette terre. Apres, nous avons realise un petit journal avec tous les evenements qui ont et qui vont marquer 2022. Enfin, un masque pour marquer lepidemie de Covid-19 qui touche le monde entier. Nous avons choisi un masque colore pour marquer lespoir que nous gardons face a cette epidemie\", explique Manuela Basty, maire du CME.\\n\\nA cela, le premier magistrat a souhaite ajouter les objets suivants : une photo du conseil municipal, une autre du conseil municipal des enfants, une photo de lavenue des Marendes avant les travaux et enfin LIndependant du jour. Lorsque les travaux damenagement de lavenue debuteront une plaque indiquera lendroit ou est enterree la capsule temporelle. \"Cest un moment historique pour Sainte-Marie-la-Mer. Un chantier qui, je lespere, restera comme un heritage dans lhistoire de Sainte-Marie-la-Mer, tant il est qualitatif, tant il va tirer la commune et les administres vers le haut et tant nous en serons fiers. Cest le top depart du chantier et jen suis tres heureux\", expliquait Edmond Jorda.',\n",
       "  'title': 'Démarrage des travaux de l’avenue des Marendes à Sainte-Marie-la-Mer : \"C’est un moment historique\"',\n",
       "  'date': '2022-02-18T00:00:00.000',\n",
       "  'article': 'https://www.lindependant.fr/2022/02/18/demarrage-des-travaux-de-lavenue-des-marendes-a-sainte-marie-la-mer-cest-un-moment-historique-10120225.php'}]"
      ]
     },
     "execution_count": 42,
     "metadata": {},
     "output_type": "execute_result"
    }
   ],
   "source": [
    "from json import loads, dumps\n",
    "\n",
    "data_sample = [\n",
    "    loads(line) for line in open('data/newspapers_sample.jsonl', 'r', encoding='utf-8').readlines()\n",
    "]\n",
    "\n",
    "data = [\n",
    "    loads(line) for line in open('data/newspapers.jsonl', 'r', encoding='utf-8').readlines()\n",
    "]\n",
    "\n",
    "data_sample[:3]"
   ]
  },
  {
   "cell_type": "markdown",
   "metadata": {},
   "source": [
    "### Fields\n",
    "\n",
    "What are the fields of the JSON objects?"
   ]
  },
  {
   "cell_type": "code",
   "execution_count": 43,
   "metadata": {},
   "outputs": [
    {
     "data": {
      "text/plain": [
       "{'article', 'date', 'text', 'title'}"
      ]
     },
     "execution_count": 43,
     "metadata": {},
     "output_type": "execute_result"
    }
   ],
   "source": [
    "keys = {key for item in data for key in item.keys()}\n",
    "keys"
   ]
  },
  {
   "cell_type": "markdown",
   "metadata": {},
   "source": [
    "### Transform the json objects in dataframes"
   ]
  },
  {
   "cell_type": "code",
   "execution_count": 44,
   "metadata": {},
   "outputs": [],
   "source": [
    "df = pd.DataFrame(data)\n",
    "df_sample = pd.DataFrame(data_sample)\n"
   ]
  },
  {
   "cell_type": "markdown",
   "metadata": {},
   "source": [
    "### Any missing values?  (No)"
   ]
  },
  {
   "cell_type": "code",
   "execution_count": 46,
   "metadata": {},
   "outputs": [
    {
     "data": {
      "text/plain": [
       "text       0\n",
       "title      0\n",
       "date       0\n",
       "article    0\n",
       "dtype: int64"
      ]
     },
     "execution_count": 46,
     "metadata": {},
     "output_type": "execute_result"
    }
   ],
   "source": [
    "df.isnull().sum()"
   ]
  },
  {
   "cell_type": "markdown",
   "metadata": {},
   "source": [
    "# Duplicates\n",
    "\n",
    "Are there any duplicates in the data? If so, how many?"
   ]
  },
  {
   "cell_type": "code",
   "execution_count": 5,
   "metadata": {},
   "outputs": [
    {
     "data": {
      "text/plain": [
       "100000"
      ]
     },
     "execution_count": 5,
     "metadata": {},
     "output_type": "execute_result"
    }
   ],
   "source": [
    "# Drop duplicate rows : \n",
    "df.drop_duplicates(inplace=True)\n",
    "len(df)"
   ]
  },
  {
   "cell_type": "markdown",
   "metadata": {},
   "source": [
    "Each row is unique. But there can be multiple articles with the same title for instance. "
   ]
  },
  {
   "cell_type": "markdown",
   "metadata": {},
   "source": [
    "#TODO : check the duplicates for each column"
   ]
  },
  {
   "cell_type": "code",
   "execution_count": 38,
   "metadata": {},
   "outputs": [
    {
     "data": {
      "text/html": [
       "<div>\n",
       "<style scoped>\n",
       "    .dataframe tbody tr th:only-of-type {\n",
       "        vertical-align: middle;\n",
       "    }\n",
       "\n",
       "    .dataframe tbody tr th {\n",
       "        vertical-align: top;\n",
       "    }\n",
       "\n",
       "    .dataframe thead th {\n",
       "        text-align: right;\n",
       "    }\n",
       "</style>\n",
       "<table border=\"1\" class=\"dataframe\">\n",
       "  <thead>\n",
       "    <tr style=\"text-align: right;\">\n",
       "      <th></th>\n",
       "      <th>title</th>\n",
       "      <th>text</th>\n",
       "      <th>date</th>\n",
       "      <th>article</th>\n",
       "    </tr>\n",
       "  </thead>\n",
       "  <tbody>\n",
       "    <tr>\n",
       "      <th>count</th>\n",
       "      <td>99962</td>\n",
       "      <td>99962</td>\n",
       "      <td>99962</td>\n",
       "      <td>99962</td>\n",
       "    </tr>\n",
       "    <tr>\n",
       "      <th>unique</th>\n",
       "      <td>99013</td>\n",
       "      <td>86532</td>\n",
       "      <td>675</td>\n",
       "      <td>99962</td>\n",
       "    </tr>\n",
       "    <tr>\n",
       "      <th>top</th>\n",
       "      <td>Vosges. Notre édition numérique est en ligne</td>\n",
       "      <td>Pourtant, comme les abonnements, ils permetten...</td>\n",
       "      <td>2022-03-11T00:00:00.000</td>\n",
       "      <td>2047761 at https://france3-regions.francetvinf...</td>\n",
       "    </tr>\n",
       "    <tr>\n",
       "      <th>freq</th>\n",
       "      <td>40</td>\n",
       "      <td>2337</td>\n",
       "      <td>321</td>\n",
       "      <td>1</td>\n",
       "    </tr>\n",
       "  </tbody>\n",
       "</table>\n",
       "</div>"
      ],
      "text/plain": [
       "                                               title  \\\n",
       "count                                          99962   \n",
       "unique                                         99013   \n",
       "top     Vosges. Notre édition numérique est en ligne   \n",
       "freq                                              40   \n",
       "\n",
       "                                                     text  \\\n",
       "count                                               99962   \n",
       "unique                                              86532   \n",
       "top     Pourtant, comme les abonnements, ils permetten...   \n",
       "freq                                                 2337   \n",
       "\n",
       "                           date  \\\n",
       "count                     99962   \n",
       "unique                      675   \n",
       "top     2022-03-11T00:00:00.000   \n",
       "freq                        321   \n",
       "\n",
       "                                                  article  \n",
       "count                                               99962  \n",
       "unique                                              99962  \n",
       "top     2047761 at https://france3-regions.francetvinf...  \n",
       "freq                                                    1  "
      ]
     },
     "execution_count": 38,
     "metadata": {},
     "output_type": "execute_result"
    }
   ],
   "source": [
    "df[['title', 'text', 'date', 'article']].describe()"
   ]
  },
  {
   "cell_type": "markdown",
   "metadata": {},
   "source": [
    "# Lengths of titles and texts"
   ]
  },
  {
   "cell_type": "code",
   "execution_count": 6,
   "metadata": {},
   "outputs": [
    {
     "data": {
      "image/png": "[encoded data removed]",
      "text/plain": [
       "<Figure size 1200x800 with 4 Axes>"
      ]
     },
     "metadata": {},
     "output_type": "display_data"
    }
   ],
   "source": [
    "# Calculate the number of characters in titles and text\n",
    "df['title_char_count'] = df['title'].str.len()\n",
    "df['text_char_count'] = df['text'].str.len()\n",
    "\n",
    "# Calculate the number of words in titles and text\n",
    "df['title_word_count'] = df['title'].str.split().str.len()\n",
    "df['text_word_count'] = df['text'].str.split().str.len()\n",
    "\n",
    "# Create a figure with subplots\n",
    "fig, axs = plt.subplots(2, 2, figsize=(12, 8))\n",
    "\n",
    "# Boxplot of character count in titles\n",
    "axs[0, 0].hist(df['title_char_count'], bins=20)\n",
    "axs[0, 0].set_title('Character Count in Titles')\n",
    "axs[0, 0].set_ylabel('Number of Characters')\n",
    "\n",
    "# Boxplot of character count in text\n",
    "axs[0, 1].hist(df['text_char_count'], bins=20)\n",
    "axs[0, 1].set_title('Character Count in Text')\n",
    "axs[0, 1].set_ylabel('Number of Characters')\n",
    "\n",
    "# Histogram of word count in titles\n",
    "axs[1, 0].hist(df['title_word_count'], bins=20)\n",
    "axs[1, 0].set_title('Word Count in Titles')\n",
    "axs[1, 0].set_xlabel('Number of Words')\n",
    "axs[1, 0].set_ylabel('Frequency')\n",
    "\n",
    "# Histogram of word count in text\n",
    "axs[1, 1].hist(df['text_word_count'], bins=20)\n",
    "axs[1, 1].set_title('Word Count in Text')\n",
    "axs[1, 1].set_xlabel('Number of Words')\n",
    "axs[1, 1].set_ylabel('Frequency')\n",
    "\n",
    "# Adjust the spacing between subplots\n",
    "plt.tight_layout()\n",
    "\n",
    "# Display the plot\n",
    "plt.show()"
   ]
  },
  {
   "cell_type": "code",
   "execution_count": 8,
   "metadata": {},
   "outputs": [
    {
     "data": {
      "text/html": [
       "<div>\n",
       "<style scoped>\n",
       "    .dataframe tbody tr th:only-of-type {\n",
       "        vertical-align: middle;\n",
       "    }\n",
       "\n",
       "    .dataframe tbody tr th {\n",
       "        vertical-align: top;\n",
       "    }\n",
       "\n",
       "    .dataframe thead th {\n",
       "        text-align: right;\n",
       "    }\n",
       "</style>\n",
       "<table border=\"1\" class=\"dataframe\">\n",
       "  <thead>\n",
       "    <tr style=\"text-align: right;\">\n",
       "      <th></th>\n",
       "      <th>title</th>\n",
       "      <th>title_char_count</th>\n",
       "    </tr>\n",
       "  </thead>\n",
       "  <tbody>\n",
       "    <tr>\n",
       "      <th>42978</th>\n",
       "      <td>L'essentiel du sport dans nos régions. Antoine...</td>\n",
       "      <td>259</td>\n",
       "    </tr>\n",
       "    <tr>\n",
       "      <th>48421</th>\n",
       "      <td>En image | ddddddddddddddddddddddddddddddddddd...</td>\n",
       "      <td>249</td>\n",
       "    </tr>\n",
       "    <tr>\n",
       "      <th>28621</th>\n",
       "      <td>La Suédoise Linn Grant regarde son drive, au d...</td>\n",
       "      <td>248</td>\n",
       "    </tr>\n",
       "    <tr>\n",
       "      <th>91553</th>\n",
       "      <td>La Matinale. Pierre Palmade gravement blessé d...</td>\n",
       "      <td>245</td>\n",
       "    </tr>\n",
       "    <tr>\n",
       "      <th>27317</th>\n",
       "      <td>L'essentiel du sport dans nos régions. Premier...</td>\n",
       "      <td>238</td>\n",
       "    </tr>\n",
       "    <tr>\n",
       "      <th>...</th>\n",
       "      <td>...</td>\n",
       "      <td>...</td>\n",
       "    </tr>\n",
       "    <tr>\n",
       "      <th>99320</th>\n",
       "      <td>Des naturalistes d'Alsace Bossue mobilisés con...</td>\n",
       "      <td>165</td>\n",
       "    </tr>\n",
       "    <tr>\n",
       "      <th>11647</th>\n",
       "      <td>Mâcon (communiqué ). La commission des finance...</td>\n",
       "      <td>165</td>\n",
       "    </tr>\n",
       "    <tr>\n",
       "      <th>77353</th>\n",
       "      <td>Disparition d'Alex Batty : \"Il nous accompagna...</td>\n",
       "      <td>165</td>\n",
       "    </tr>\n",
       "    <tr>\n",
       "      <th>16987</th>\n",
       "      <td>Un 47eme fourgon d'intervention percuté sur l'...</td>\n",
       "      <td>165</td>\n",
       "    </tr>\n",
       "    <tr>\n",
       "      <th>15861</th>\n",
       "      <td>Météo. De Grenoble à Montélimar, d'Annecy à Av...</td>\n",
       "      <td>165</td>\n",
       "    </tr>\n",
       "  </tbody>\n",
       "</table>\n",
       "<p>200 rows × 2 columns</p>\n",
       "</div>"
      ],
      "text/plain": [
       "                                                   title  title_char_count\n",
       "42978  L'essentiel du sport dans nos régions. Antoine...               259\n",
       "48421  En image | ddddddddddddddddddddddddddddddddddd...               249\n",
       "28621  La Suédoise Linn Grant regarde son drive, au d...               248\n",
       "91553  La Matinale. Pierre Palmade gravement blessé d...               245\n",
       "27317  L'essentiel du sport dans nos régions. Premier...               238\n",
       "...                                                  ...               ...\n",
       "99320  Des naturalistes d'Alsace Bossue mobilisés con...               165\n",
       "11647  Mâcon (communiqué ). La commission des finance...               165\n",
       "77353  Disparition d'Alex Batty : \"Il nous accompagna...               165\n",
       "16987  Un 47eme fourgon d'intervention percuté sur l'...               165\n",
       "15861  Météo. De Grenoble à Montélimar, d'Annecy à Av...               165\n",
       "\n",
       "[200 rows x 2 columns]"
      ]
     },
     "execution_count": 8,
     "metadata": {},
     "output_type": "execute_result"
    }
   ],
   "source": [
    "# Show the longuest titles\n",
    "longuest_titles = df.sort_values('title_char_count', ascending=False).head(200)\n",
    "\n",
    "longuest_titles[['title', 'title_char_count']]\n"
   ]
  },
  {
   "cell_type": "markdown",
   "metadata": {},
   "source": [
    "### Repeating characters"
   ]
  },
  {
   "cell_type": "markdown",
   "metadata": {},
   "source": [
    "- We found the text `dddddddddddddddddddddddddddddddddddddddddddddddddddddddddddddddddddddddddddddddddddddddddddddddddddddddddddddeeeeeeeeeeeeeeeeeeeePose`in a title.\n",
    "  It might be useful to count the number of repeating characters in the text."
   ]
  },
  {
   "cell_type": "code",
   "execution_count": 9,
   "metadata": {},
   "outputs": [],
   "source": [
    "def count_repeating_chars(text:str)->int:\n",
    "    \"\"\"Count the number of repeating characters in a string.\n",
    "    \n",
    "    Example:\n",
    "    count_repeating_chars('aab') -> 1\n",
    "    count_repeating_chars('aaabb') -> 3\n",
    "    \"\"\"\n",
    "    count = 0\n",
    "    for i in range(1, len(text)):\n",
    "        if text[i] == text[i-1]:\n",
    "            count += 1\n",
    "    return count\n",
    "\n",
    "assert count_repeating_chars('aab') == 1\n",
    "assert count_repeating_chars('aaabb') == 3"
   ]
  },
  {
   "cell_type": "code",
   "execution_count": 10,
   "metadata": {},
   "outputs": [],
   "source": [
    "def count_repeating_non_whitespace_chars(text:str)->int:\n",
    "    \"\"\"Count the number of repeating non-whitespace characters in a string.\n",
    "    \n",
    "    Example:\n",
    "    count_repeating_non_whitespace_chars('aab') -> 1\n",
    "    count_repeating_non_whitespace_chars('aaabb') -> 3\n",
    "    count_repeating_non_whitespace_chars('aa a') -> 2\n",
    "    \"\"\"\n",
    "    text = text.replace(' ', '').replace('\\n', '').replace('\\t', '').replace('\\r', '')\n",
    "    return count_repeating_chars(text)\n",
    "\n",
    "assert count_repeating_non_whitespace_chars('aab') == 1\n",
    "assert count_repeating_non_whitespace_chars('aaabb') == 3\n",
    "assert count_repeating_non_whitespace_chars('aa a') == 2"
   ]
  },
  {
   "cell_type": "markdown",
   "metadata": {},
   "source": [
    "Only counting the number of repeating characters in the text would penalize long texts. We should normalize this number by the length of the text."
   ]
  },
  {
   "cell_type": "code",
   "execution_count": 11,
   "metadata": {},
   "outputs": [],
   "source": [
    "# Count repeating characters in titles and text and dividing by the number of characters\n",
    "\n",
    "df['title_repeating_chars'] = df['title'].apply(count_repeating_non_whitespace_chars) / df['title_char_count']\n",
    "df['text_repeating_chars'] = df['text'].apply(count_repeating_non_whitespace_chars) / df['text_char_count']"
   ]
  },
  {
   "cell_type": "code",
   "execution_count": 12,
   "metadata": {},
   "outputs": [
    {
     "data": {
      "text/html": [
       "<div>\n",
       "<style scoped>\n",
       "    .dataframe tbody tr th:only-of-type {\n",
       "        vertical-align: middle;\n",
       "    }\n",
       "\n",
       "    .dataframe tbody tr th {\n",
       "        vertical-align: top;\n",
       "    }\n",
       "\n",
       "    .dataframe thead th {\n",
       "        text-align: right;\n",
       "    }\n",
       "</style>\n",
       "<table border=\"1\" class=\"dataframe\">\n",
       "  <thead>\n",
       "    <tr style=\"text-align: right;\">\n",
       "      <th></th>\n",
       "      <th>title</th>\n",
       "      <th>title_repeating_chars</th>\n",
       "    </tr>\n",
       "  </thead>\n",
       "  <tbody>\n",
       "    <tr>\n",
       "      <th>48421</th>\n",
       "      <td>En image | ddddddddddddddddddddddddddddddddddd...</td>\n",
       "      <td>0.510040</td>\n",
       "    </tr>\n",
       "    <tr>\n",
       "      <th>34828</th>\n",
       "      <td>ZOOM</td>\n",
       "      <td>0.250000</td>\n",
       "    </tr>\n",
       "    <tr>\n",
       "      <th>16286</th>\n",
       "      <td>495 000 €</td>\n",
       "      <td>0.222222</td>\n",
       "    </tr>\n",
       "    <tr>\n",
       "      <th>9521</th>\n",
       "      <td>XXXXXXXXX. Une législation qui évolue en perma...</td>\n",
       "      <td>0.176471</td>\n",
       "    </tr>\n",
       "    <tr>\n",
       "      <th>22558</th>\n",
       "      <td>500 à sillonner le terroir</td>\n",
       "      <td>0.153846</td>\n",
       "    </tr>\n",
       "    <tr>\n",
       "      <th>73655</th>\n",
       "      <td>Comment placer 50 000 euros</td>\n",
       "      <td>0.148148</td>\n",
       "    </tr>\n",
       "    <tr>\n",
       "      <th>82484</th>\n",
       "      <td>Halloween en familles</td>\n",
       "      <td>0.142857</td>\n",
       "    </tr>\n",
       "    <tr>\n",
       "      <th>12681</th>\n",
       "      <td>Football. ASSE : le successeur de Laurent Batl...</td>\n",
       "      <td>0.121212</td>\n",
       "    </tr>\n",
       "    <tr>\n",
       "      <th>63319</th>\n",
       "      <td>On a testé...l'attelage !</td>\n",
       "      <td>0.120000</td>\n",
       "    </tr>\n",
       "    <tr>\n",
       "      <th>52597</th>\n",
       "      <td>Un football lorrain au fort accent polonais</td>\n",
       "      <td>0.116279</td>\n",
       "    </tr>\n",
       "  </tbody>\n",
       "</table>\n",
       "</div>"
      ],
      "text/plain": [
       "                                                   title  \\\n",
       "48421  En image | ddddddddddddddddddddddddddddddddddd...   \n",
       "34828                                               ZOOM   \n",
       "16286                                          495 000 €   \n",
       "9521   XXXXXXXXX. Une législation qui évolue en perma...   \n",
       "22558                         500 à sillonner le terroir   \n",
       "73655                        Comment placer 50 000 euros   \n",
       "82484                              Halloween en familles   \n",
       "12681  Football. ASSE : le successeur de Laurent Batl...   \n",
       "63319                          On a testé...l'attelage !   \n",
       "52597        Un football lorrain au fort accent polonais   \n",
       "\n",
       "       title_repeating_chars  \n",
       "48421               0.510040  \n",
       "34828               0.250000  \n",
       "16286               0.222222  \n",
       "9521                0.176471  \n",
       "22558               0.153846  \n",
       "73655               0.148148  \n",
       "82484               0.142857  \n",
       "12681               0.121212  \n",
       "63319               0.120000  \n",
       "52597               0.116279  "
      ]
     },
     "execution_count": 12,
     "metadata": {},
     "output_type": "execute_result"
    }
   ],
   "source": [
    "# Show the rows with the highest ratio of repeating characters in titles\n",
    "df.sort_values('title_repeating_chars', ascending=False).head(10)[['title', 'title_repeating_chars']]"
   ]
  },
  {
   "cell_type": "code",
   "execution_count": 13,
   "metadata": {},
   "outputs": [
    {
     "data": {
      "text/html": [
       "<div>\n",
       "<style scoped>\n",
       "    .dataframe tbody tr th:only-of-type {\n",
       "        vertical-align: middle;\n",
       "    }\n",
       "\n",
       "    .dataframe tbody tr th {\n",
       "        vertical-align: top;\n",
       "    }\n",
       "\n",
       "    .dataframe thead th {\n",
       "        text-align: right;\n",
       "    }\n",
       "</style>\n",
       "<table border=\"1\" class=\"dataframe\">\n",
       "  <thead>\n",
       "    <tr style=\"text-align: right;\">\n",
       "      <th></th>\n",
       "      <th>title</th>\n",
       "      <th>text</th>\n",
       "      <th>text_repeating_chars</th>\n",
       "    </tr>\n",
       "  </thead>\n",
       "  <tbody>\n",
       "    <tr>\n",
       "      <th>48421</th>\n",
       "      <td>En image | ddddddddddddddddddddddddddddddddddd...</td>\n",
       "      <td>En image | ddddddddddddddddddddddddddddddddddd...</td>\n",
       "      <td>0.414791</td>\n",
       "    </tr>\n",
       "    <tr>\n",
       "      <th>56337</th>\n",
       "      <td>Confolens : Le prix Abel Desaphy disputé jeudi</td>\n",
       "      <td>Pour les épreuves d’école de vélo, les dossard...</td>\n",
       "      <td>0.314079</td>\n",
       "    </tr>\n",
       "    <tr>\n",
       "      <th>92943</th>\n",
       "      <td>Football : découvrez les affiches du 5e tour d...</td>\n",
       "      <td>????? ?? ?????? : ???????? ?? ?? ???? \\ud83c\\u...</td>\n",
       "      <td>0.235808</td>\n",
       "    </tr>\n",
       "    <tr>\n",
       "      <th>26287</th>\n",
       "      <td>Aveyron : suivez le week-end de sports en direct</td>\n",
       "      <td>Football, basket-ball, handball, moto ou encor...</td>\n",
       "      <td>0.205108</td>\n",
       "    </tr>\n",
       "    <tr>\n",
       "      <th>73389</th>\n",
       "      <td>Football, basket-ball, handball : suivez les r...</td>\n",
       "      <td>Suivez ci-dessous l'avancée des résultats spor...</td>\n",
       "      <td>0.175405</td>\n",
       "    </tr>\n",
       "    <tr>\n",
       "      <th>27180</th>\n",
       "      <td>Football, handball, trail : retrouvez tous les...</td>\n",
       "      <td>Retrouvez ci-dessous l'ensemble des résultats ...</td>\n",
       "      <td>0.135633</td>\n",
       "    </tr>\n",
       "    <tr>\n",
       "      <th>95416</th>\n",
       "      <td>Rugby, football, basket-ball : suivez en direc...</td>\n",
       "      <td>Football, rugby à XIII et à XV, handball, bask...</td>\n",
       "      <td>0.119357</td>\n",
       "    </tr>\n",
       "    <tr>\n",
       "      <th>64024</th>\n",
       "      <td>Football, auto, basket-ball : suivez en direct...</td>\n",
       "      <td>Football, rugby à XIII, handball, automobile.....</td>\n",
       "      <td>0.101159</td>\n",
       "    </tr>\n",
       "    <tr>\n",
       "      <th>55529</th>\n",
       "      <td>Basket-ball, rugby, football : découvrez tous ...</td>\n",
       "      <td>Basket-ball, football, handball, rugby....Retr...</td>\n",
       "      <td>0.100370</td>\n",
       "    </tr>\n",
       "    <tr>\n",
       "      <th>81783</th>\n",
       "      <td>Football, basket-ball, rugby : le Sporting dec...</td>\n",
       "      <td>Football, rugby à XIII et à XV, handball, cour...</td>\n",
       "      <td>0.093532</td>\n",
       "    </tr>\n",
       "  </tbody>\n",
       "</table>\n",
       "</div>"
      ],
      "text/plain": [
       "                                                   title  \\\n",
       "48421  En image | ddddddddddddddddddddddddddddddddddd...   \n",
       "56337     Confolens : Le prix Abel Desaphy disputé jeudi   \n",
       "92943  Football : découvrez les affiches du 5e tour d...   \n",
       "26287   Aveyron : suivez le week-end de sports en direct   \n",
       "73389  Football, basket-ball, handball : suivez les r...   \n",
       "27180  Football, handball, trail : retrouvez tous les...   \n",
       "95416  Rugby, football, basket-ball : suivez en direc...   \n",
       "64024  Football, auto, basket-ball : suivez en direct...   \n",
       "55529  Basket-ball, rugby, football : découvrez tous ...   \n",
       "81783  Football, basket-ball, rugby : le Sporting dec...   \n",
       "\n",
       "                                                    text  text_repeating_chars  \n",
       "48421  En image | ddddddddddddddddddddddddddddddddddd...              0.414791  \n",
       "56337  Pour les épreuves d’école de vélo, les dossard...              0.314079  \n",
       "92943  ????? ?? ?????? : ???????? ?? ?? ???? \\ud83c\\u...              0.235808  \n",
       "26287  Football, basket-ball, handball, moto ou encor...              0.205108  \n",
       "73389  Suivez ci-dessous l'avancée des résultats spor...              0.175405  \n",
       "27180  Retrouvez ci-dessous l'ensemble des résultats ...              0.135633  \n",
       "95416  Football, rugby à XIII et à XV, handball, bask...              0.119357  \n",
       "64024  Football, rugby à XIII, handball, automobile.....              0.101159  \n",
       "55529  Basket-ball, football, handball, rugby....Retr...              0.100370  \n",
       "81783  Football, rugby à XIII et à XV, handball, cour...              0.093532  "
      ]
     },
     "execution_count": 13,
     "metadata": {},
     "output_type": "execute_result"
    }
   ],
   "source": [
    "# Same for text\n",
    "df.sort_values('text_repeating_chars', ascending=False).head(10)[['title', 'text', 'text_repeating_chars']]"
   ]
  },
  {
   "cell_type": "markdown",
   "metadata": {},
   "source": [
    "Turns out the only problematic text is the one mentioned above."
   ]
  },
  {
   "cell_type": "code",
   "execution_count": 14,
   "metadata": {},
   "outputs": [],
   "source": [
    "# Drops rows having a title with more than 0.50 repeating characters score\n",
    "df = df[df['title_repeating_chars'] < 0.50]"
   ]
  },
  {
   "cell_type": "markdown",
   "metadata": {},
   "source": [
    "### Looking at the shortests titles"
   ]
  },
  {
   "cell_type": "code",
   "execution_count": 16,
   "metadata": {},
   "outputs": [
    {
     "data": {
      "text/html": [
       "<div>\n",
       "<style scoped>\n",
       "    .dataframe tbody tr th:only-of-type {\n",
       "        vertical-align: middle;\n",
       "    }\n",
       "\n",
       "    .dataframe tbody tr th {\n",
       "        vertical-align: top;\n",
       "    }\n",
       "\n",
       "    .dataframe thead th {\n",
       "        text-align: right;\n",
       "    }\n",
       "</style>\n",
       "<table border=\"1\" class=\"dataframe\">\n",
       "  <thead>\n",
       "    <tr style=\"text-align: right;\">\n",
       "      <th></th>\n",
       "      <th>title</th>\n",
       "      <th>title_char_count</th>\n",
       "      <th>text</th>\n",
       "    </tr>\n",
       "  </thead>\n",
       "  <tbody>\n",
       "    <tr>\n",
       "      <th>59191</th>\n",
       "      <td>8</td>\n",
       "      <td>1</td>\n",
       "      <td>...pour lire la suite, rejoignez notre communa...</td>\n",
       "    </tr>\n",
       "    <tr>\n",
       "      <th>85033</th>\n",
       "      <td>164</td>\n",
       "      <td>3</td>\n",
       "      <td>164\\n\\nC’est en millions d’euros, la somme des...</td>\n",
       "    </tr>\n",
       "    <tr>\n",
       "      <th>43755</th>\n",
       "      <td>3,38</td>\n",
       "      <td>4</td>\n",
       "      <td>en millions d’euros, c’est le montant de l’env...</td>\n",
       "    </tr>\n",
       "    <tr>\n",
       "      <th>34828</th>\n",
       "      <td>ZOOM</td>\n",
       "      <td>4</td>\n",
       "      <td>ZOOM\\n\\nPar Le Progrès - Hier à 18:37 - Temps ...</td>\n",
       "    </tr>\n",
       "    <tr>\n",
       "      <th>62470</th>\n",
       "      <td>L'Ouïe</td>\n",
       "      <td>6</td>\n",
       "      <td>Entendre c’est aussi se donner le temps d’appr...</td>\n",
       "    </tr>\n",
       "    <tr>\n",
       "      <th>87771</th>\n",
       "      <td>Vite lu</td>\n",
       "      <td>7</td>\n",
       "      <td>Arbres abattus avenue du 8-Mai-1945. Les agent...</td>\n",
       "    </tr>\n",
       "    <tr>\n",
       "      <th>92692</th>\n",
       "      <td>➤  Voir</td>\n",
       "      <td>7</td>\n",
       "      <td>➤ Voir\\n\\nPar Le Bien Public - Aujourd'hui à 1...</td>\n",
       "    </tr>\n",
       "    <tr>\n",
       "      <th>49896</th>\n",
       "      <td>Vite lu</td>\n",
       "      <td>7</td>\n",
       "      <td>Concert avec dimanche avec Franck Besingrand. ...</td>\n",
       "    </tr>\n",
       "    <tr>\n",
       "      <th>2078</th>\n",
       "      <td>Repères</td>\n",
       "      <td>7</td>\n",
       "      <td>Repères\\n\\nPar Le Dauphiné Libéré - Aujourd'hu...</td>\n",
       "    </tr>\n",
       "    <tr>\n",
       "      <th>6891</th>\n",
       "      <td>contexte</td>\n",
       "      <td>8</td>\n",
       "      <td>...pour lire la suite, rejoignez notre communa...</td>\n",
       "    </tr>\n",
       "  </tbody>\n",
       "</table>\n",
       "</div>"
      ],
      "text/plain": [
       "          title  title_char_count  \\\n",
       "59191         8                 1   \n",
       "85033       164                 3   \n",
       "43755      3,38                 4   \n",
       "34828      ZOOM                 4   \n",
       "62470    L'Ouïe                 6   \n",
       "87771   Vite lu                 7   \n",
       "92692   ➤  Voir                 7   \n",
       "49896   Vite lu                 7   \n",
       "2078    Repères                 7   \n",
       "6891   contexte                 8   \n",
       "\n",
       "                                                    text  \n",
       "59191  ...pour lire la suite, rejoignez notre communa...  \n",
       "85033  164\\n\\nC’est en millions d’euros, la somme des...  \n",
       "43755  en millions d’euros, c’est le montant de l’env...  \n",
       "34828  ZOOM\\n\\nPar Le Progrès - Hier à 18:37 - Temps ...  \n",
       "62470  Entendre c’est aussi se donner le temps d’appr...  \n",
       "87771  Arbres abattus avenue du 8-Mai-1945. Les agent...  \n",
       "92692  ➤ Voir\\n\\nPar Le Bien Public - Aujourd'hui à 1...  \n",
       "49896  Concert avec dimanche avec Franck Besingrand. ...  \n",
       "2078   Repères\\n\\nPar Le Dauphiné Libéré - Aujourd'hu...  \n",
       "6891   ...pour lire la suite, rejoignez notre communa...  "
      ]
     },
     "execution_count": 16,
     "metadata": {},
     "output_type": "execute_result"
    }
   ],
   "source": [
    "df.sort_values('title_char_count').head(10)[['title', 'title_char_count', 'text']]"
   ]
  },
  {
   "cell_type": "markdown",
   "metadata": {},
   "source": [
    "We will look at titles which only consist of numbers"
   ]
  },
  {
   "cell_type": "code",
   "execution_count": 21,
   "metadata": {},
   "outputs": [
    {
     "data": {
      "text/plain": [
       "'abcdefghijklmnopqrstuvwxyzABCDEFGHIJKLMNOPQRSTUVWXYZàâçéèêëîïôûüÿæœ'"
      ]
     },
     "execution_count": 21,
     "metadata": {},
     "output_type": "execute_result"
    }
   ],
   "source": [
    "import string\n",
    "\n",
    "FRENCH_LETTERS = string.ascii_letters + 'àâçéèêëîïôûüÿæœ'\n",
    "FRENCH_LETTERS"
   ]
  },
  {
   "cell_type": "code",
   "execution_count": 24,
   "metadata": {},
   "outputs": [],
   "source": [
    "def get_only_alpha_text(text:str, alphabset_set=FRENCH_LETTERS)->str:\n",
    "    \"\"\"Return a string containing only the letters of the input string.\n",
    "\n",
    "    Example:\n",
    "    get_only_alpha_text(\"Hello, world 23,1!\") -> \"Helloworld\"\n",
    "    \"\"\"\n",
    "    return ''.join([c for c in text if c in alphabset_set])\n",
    "\n",
    "assert get_only_alpha_text(\"Hello, world 23,1!\") == \"Helloworld\""
   ]
  },
  {
   "cell_type": "code",
   "execution_count": 26,
   "metadata": {},
   "outputs": [
    {
     "data": {
      "text/html": [
       "<div>\n",
       "<style scoped>\n",
       "    .dataframe tbody tr th:only-of-type {\n",
       "        vertical-align: middle;\n",
       "    }\n",
       "\n",
       "    .dataframe tbody tr th {\n",
       "        vertical-align: top;\n",
       "    }\n",
       "\n",
       "    .dataframe thead th {\n",
       "        text-align: right;\n",
       "    }\n",
       "</style>\n",
       "<table border=\"1\" class=\"dataframe\">\n",
       "  <thead>\n",
       "    <tr style=\"text-align: right;\">\n",
       "      <th></th>\n",
       "      <th>title</th>\n",
       "      <th>title_alpha</th>\n",
       "      <th>title_alpha_char_count</th>\n",
       "    </tr>\n",
       "  </thead>\n",
       "  <tbody>\n",
       "    <tr>\n",
       "      <th>16286</th>\n",
       "      <td>495 000 €</td>\n",
       "      <td></td>\n",
       "      <td>0</td>\n",
       "    </tr>\n",
       "    <tr>\n",
       "      <th>43755</th>\n",
       "      <td>3,38</td>\n",
       "      <td></td>\n",
       "      <td>0</td>\n",
       "    </tr>\n",
       "    <tr>\n",
       "      <th>59191</th>\n",
       "      <td>8</td>\n",
       "      <td></td>\n",
       "      <td>0</td>\n",
       "    </tr>\n",
       "    <tr>\n",
       "      <th>85033</th>\n",
       "      <td>164</td>\n",
       "      <td></td>\n",
       "      <td>0</td>\n",
       "    </tr>\n",
       "    <tr>\n",
       "      <th>34828</th>\n",
       "      <td>ZOOM</td>\n",
       "      <td>ZOOM</td>\n",
       "      <td>4</td>\n",
       "    </tr>\n",
       "    <tr>\n",
       "      <th>92692</th>\n",
       "      <td>➤  Voir</td>\n",
       "      <td>Voir</td>\n",
       "      <td>4</td>\n",
       "    </tr>\n",
       "    <tr>\n",
       "      <th>7534</th>\n",
       "      <td>Manom. 70</td>\n",
       "      <td>Manom</td>\n",
       "      <td>5</td>\n",
       "    </tr>\n",
       "    <tr>\n",
       "      <th>32818</th>\n",
       "      <td>24 avril 2023</td>\n",
       "      <td>avril</td>\n",
       "      <td>5</td>\n",
       "    </tr>\n",
       "    <tr>\n",
       "      <th>62470</th>\n",
       "      <td>L'Ouïe</td>\n",
       "      <td>LOuïe</td>\n",
       "      <td>5</td>\n",
       "    </tr>\n",
       "    <tr>\n",
       "      <th>87771</th>\n",
       "      <td>Vite lu</td>\n",
       "      <td>Vitelu</td>\n",
       "      <td>6</td>\n",
       "    </tr>\n",
       "  </tbody>\n",
       "</table>\n",
       "</div>"
      ],
      "text/plain": [
       "               title title_alpha  title_alpha_char_count\n",
       "16286      495 000 €                                   0\n",
       "43755           3,38                                   0\n",
       "59191              8                                   0\n",
       "85033            164                                   0\n",
       "34828           ZOOM        ZOOM                       4\n",
       "92692        ➤  Voir        Voir                       4\n",
       "7534       Manom. 70       Manom                       5\n",
       "32818  24 avril 2023       avril                       5\n",
       "62470         L'Ouïe       LOuïe                       5\n",
       "87771        Vite lu      Vitelu                       6"
      ]
     },
     "execution_count": 26,
     "metadata": {},
     "output_type": "execute_result"
    }
   ],
   "source": [
    "# Create a new column with only the letters of the title\n",
    "\n",
    "df['title_alpha'] = df['title'].apply(get_only_alpha_text)\n",
    "\n",
    "# Create a new column with the number of chars in title_alpha\n",
    "\n",
    "df['title_alpha_char_count'] = df['title_alpha'].str.len()\n",
    "\n",
    "# Show the rows with the shortest title_alpha\n",
    "df.sort_values('title_alpha_char_count').head(100)[['title', 'title_alpha', 'title_alpha_char_count']]\n",
    "\n"
   ]
  },
  {
   "cell_type": "markdown",
   "metadata": {},
   "source": [
    "We remove the rows having titles with less than 10 alpha characters"
   ]
  },
  {
   "cell_type": "code",
   "execution_count": 32,
   "metadata": {},
   "outputs": [
    {
     "name": "stdout",
     "output_type": "stream",
     "text": [
      "Removed 37 rows\n"
     ]
    }
   ],
   "source": [
    "# We remove the rows having titles with less than 10 alpha characters\n",
    "before_len = len(df)\n",
    "df = df[df['title_alpha_char_count'] >= 10]\n",
    "after_len = len(df)\n",
    "\n",
    "print(f\"Removed {before_len - after_len} rows\")"
   ]
  },
  {
   "cell_type": "markdown",
   "metadata": {},
   "source": [
    "# Removing cookies banners, paywalls, and other non-content text"
   ]
  },
  {
   "cell_type": "code",
   "execution_count": null,
   "metadata": {},
   "outputs": [],
   "source": [
    "\"Pour lire la suite\"\n",
    "\"cookie\"\n",
    "\"abonnez-vous\"\n",
    "\"connexion\"\n",
    "\"inscrivez-vous\"\n",
    "\"connectez-vous\"\n",
    "\n",
    "\n",
    "\"\"\"\n",
    "Text: ...pour lire la suite, rejoignez notre communauté d'abonnés\n",
    "\n",
    "et accédez à l'intégralité de nos articles sur le site et l'application mobile\n",
    "\n",
    "Je découvre\n",
    "\n",
    "à partir de 1 € le 1er mois, sans engagement de durée\n",
    "\"\"\"\n",
    "\n",
    "\"\"\"\n",
    "et accédez à l'intégralité de nos articles sur le site et l'application mobile\n",
    "\"\"\"\n",
    "\n"
   ]
  },
  {
   "cell_type": "code",
   "execution_count": null,
   "metadata": {},
   "outputs": [],
   "source": []
  },
  {
   "cell_type": "markdown",
   "metadata": {},
   "source": [
    "# Data analysis : \n",
    "## Title / Text\n",
    "    Unique words\n",
    "    Most common words\n",
    "    Word cloud\n",
    "    Html tags ? \n",
    "## Text\n",
    "    Looking at very long texts\n",
    "## Date\n",
    "    Min and max\n",
    "    Distribution\n",
    "    distribution per year/ month, day. (e.g Show which weekdays are the most popular)\n",
    "\n",
    "## article"
   ]
  },
  {
   "cell_type": "code",
   "execution_count": null,
   "metadata": {},
   "outputs": [],
   "source": [
    "# Url validation"
   ]
  }
 ],
 "metadata": {
  "kernelspec": {
   "display_name": "venv",
   "language": "python",
   "name": "python3"
  },
  "language_info": {
   "codemirror_mode": {
    "name": "ipython",
    "version": 3
   },
   "file_extension": ".py",
   "mimetype": "text/x-python",
   "name": "python",
   "nbconvert_exporter": "python",
   "pygments_lexer": "ipython3",
   "version": "3.9.13"
  }
 },
 "nbformat": 4,
 "nbformat_minor": 2
}
