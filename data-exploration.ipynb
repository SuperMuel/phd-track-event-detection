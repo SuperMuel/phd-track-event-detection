{
 "cells": [
  {
   "cell_type": "code",
   "execution_count": 1,
   "metadata": {},
   "outputs": [],
   "source": [
    "import matplotlib.pyplot as plt\n",
    "import numpy as np\n",
    "import seaborn as sns\n",
    "import pandas as pd\n",
    "import re"
   ]
  },
  {
   "cell_type": "markdown",
   "metadata": {},
   "source": [
    "# Loading data\n",
    "\n",
    "Data can be downloaded as a `zip` file at https://drive.google.com/file/d/1h0ThrK252cyeJr4TwkqQCNKJhGMji-4B/view?usp=sharing\n",
    "\n",
    "It contains the following files:\n",
    "\n",
    "- `newspapers.jsonl` 190MB, 100 000 articles\n",
    "- `newspapers_sample.jsonl` 200KB, 100 articles\n",
    "\n",
    "Extract them to the project's root directory.\n",
    "\n",
    "JSONL is a file format that contains a sequence of JSON objects, each object in a separate line.\n"
   ]
  },
  {
   "cell_type": "code",
   "execution_count": 2,
   "metadata": {},
   "outputs": [
    {
     "data": {
      "text/plain": [
       "[{'text': 'On ne s’attendait pas du tout à trouver une ville aussi jolie entourée de remparts. » La surprise émerveille plus d’un touriste, qu’il soit français ou étranger, quand il découvre Angoulême. Le Plateau et ses ruelles surprennent. Et surtout séduisent. Notamment les étrangers dont on fête le grand retour, cette année, après deux étés de disette en raison de la crise sanitaire.\\n\\nBelges, Britanniques et Néerlandais constituent le hit de parade des nationalités représentées depuis début juillet. On croise également des Espagnols, des Italiens et quelques Nord-Américains. Et même des Danois, accueillis pour la première fois au Musée d’art et d’histoire de la ville. « Peut-être grâce au Tour de France ! », avance-t-on dans un sourire à l’accueil.\\n\\nLes Anglo-Saxons et les vieilles pierres\\n\\nDifficile de dire si le label « Ville créative », délivré par l’Unesco fin 2019, pèse sur la venue d’étrangers dans la ville. Peu semblent au courant de cette reconnaissance. S’ils s’arrêtent à Angoulême, pour quelques heures ou quelques jours, c’est le plus souvent sur la route d’une autre destination: l’océan ou la Dordogne.\\n\\nMais que viennent chercher ces touristes à Angoulême ? À l’office de tourisme, la BD, son musée et les murs peints arrivent en tête des demandes de renseignements. Suivis de la cathédrale Saint-Pierre et de l’hôtel de ville. Ces derniers sont particulièrement prisés des Anglo-Saxons. À l’image de Sue et Andrew Watson, Anglais de Manchester croisés à la sortie de la cathédrale, qui voulaient découvrir autre chose que le Périgord où ils ont leurs habitudes estivales. « C’est magnifique, on ne s’attendait pas à voir autant de vieux bâtiments et beaux monuments », soufflent-ils. C’est en regardant une carte qu’ils ont eu l’idée de venir passer une journée à Angoulême.\\n\\nLiz, une Canadienne de Winnipeg, est de passage pour une semaine chez une amie angoumoisine. « Je veux profiter de mon séjour pour découvrir l’histoire de la ville que racontent toutes ces bâtiments et la cathédrale », glisse-t-elle, en admiration devant la façade de l’hôtel de ville.\\n\\nInternationale BD\\n\\nVeerle et Serge Liberloo, un couple de Belges flamands, originaire du Limbourg près des Pays-Bas, découvrent Angoulême. « C’est même la première fois que l’on vient en France, à part à Paris. On est sous le charme de la ville », apprécient-ils. Si la campagne environnante, avec « ses tournesols et des vaches plus petites que chez nous », leur plaît également, ils ont choisi Angoulême comme destination pour la BD. Notamment grâce à leur fille Liselotte, « passionnée de bande dessinée et de tous les arts en général ». Casque audio sur les oreilles, les Liberloo s’engouffrent dans les salles climatisées du musée. Non sans avoir immortalisé l’instant avec le photomaton installé à l’entrée !\\n\\nMême motivation pour Domenico Rossi et son fils Enzo, Italiens de Bologne. Fans de BD, ils profitent de leur périple dans le Sud-Ouest pour faire un crochet par Angoulême et son musée. Montserrat Anchuelo est aussi venue pour les « comics », depuis Madrid avec son mari et ses deux fils. Après Carcassonne et Albi les années précédentes et Périgueux, où les Anchuelo ont installé cet été leur camp de base, pas question de rater la capitale internationale de la BD. Le musée - « où la fréquentation, notamment d’étrangers, a dépassé celle de juillet 2019 », glisse Maël Ranoux, le directeur de la lecture publique de la Cité de la BD - a d’ailleurs pour la première fois édité un guide papier en espagnol. Un signe.\\n\\nAnke Braatz est Allemande. Elle accompagne Xavier Bordenave, un banlieusard parisien qui tenait à lui faire visiter la ville sous laquelle il est tombé sous le charme il y a une quinzaine d’années quand il y a travaillé. Après avoir découvert la place du Minage, Anke veut surtout profiter de son passage « pour aller visiter le musée de la BD dont j’ai déjà entendu parler ».\\n\\nC’est magnifique, on ne s’attendait pas à voir autant de vieux bâtiments.',\n",
       "  'title': 'Pourquoi Angoulême attire les touristes étrangers',\n",
       "  'date': '2022-08-10T00:00:00.000',\n",
       "  'article': 'https://www.charentelibre.fr/charente/angouleme/pourquoi-angouleme-attire-les-touristes-etrangers-11844486.php'},\n",
       " {'text': \"Coup de théâtre à la CGT. Sophie Binet a été élue secrétaire générale de la Confédération, en remplacement de Philippe Martinez lors du 53e congrès confédéral de la centrale syndicale à Clermont-Ferrand, a-t-on appris auprès de délégués CGT, ce vendredi 31 mars.\\n\\nLire aussiRéforme des retraites: et si la CGT faisait un cadeau au gouvernement pour son 53e congrès?\\n\\nLa nouvelle équipe dirigeante, composée du secrétaire général, de l'administrateur et du bureau exécutif, devrait être présentée aux congressistes ce vendredi, avant une conférence de presse prévue à midi. Il s'agit de la première femme à occuper ce poste depuis la création de l'organisation en 1895, ont indiqué des membres de la direction à l'AFP. Philippe Martinez a occupé ce poste pendant deux mandats, depuis 2015.\\n\\nDésaveu du choix de Martinez\\n\\nCette élection survient au terme d'une nuit d'intenses tractations au cours de laquelle aucune des deux candidates jusqu'alors pressenties, Marie Buisson, la dauphine du secrétaire général sortant Philippe Martinez, et Céline Verzeletti, ne sont parvenues à faire consensus sur leur nom.\\n\\nCe coup de théâtre survient après une semaine de congrès houleux, en pleine bataille contre la réforme des retraites. Lors du congrès, le rapport d'activité du mandat de Philippe Martinez a été rejeté, mardi 28 mars, à une courte majorité de 50,32%, handicapant de facto sa candidate Marie Buisson, au profit de Sophie Binet.\\n\\nLire aussiRemous à la CGT au sujet de la succession de Philippe Martinez\\n\\nEn février déjà, dix-huit fédérations - sur les 33 que compte la CGT -, soit les deux tiers des adhérents, lui avaient écrit pour affirmer leur désaccord de voir Marie Buisson, 54 ans, prendre la relève. Elles craignaient notamment un « risque de fractures qui pourraient se creuser dans la CGT en cas de « direction mal élue ou pas élue », écrivaient ces fédérations.\\n\\n« Marie Buisson pâtit d'un débat que n'a pas voulu trancher Philippe Martinez, celui de la ligne de la CGT », expliquait un bon connaisseur du syndicat à La Tribune. « Cela fait de nombreuses années que le syndicat est tiraillé entre ; d'un côté, les tenants d'une ligne dure, ancrée dans la lutte des classes, pour le nucléaire qui maintient des emplois industriels, qui ne fait ni de concessions avec le gouvernement, ni d'alliances avec la CFDT, et de l'autre, une ligne plus ouverte, sur la discussion, les rapprochements avec d'autres centrales, etc. », a-t-il ajouté.\\n\\nUne ex-cheffe de l'Ugict à la barre de la CGT\\n\\nSophie Binet, née en 1982, est une ancienne membre du syndicat étudiant Unef et ancienne CPE (conseillère principale d'orientation). Elle était à la tête de la Fédération des cadres Ugict, depuis 2018. Issue de la Commission exécutive confédérale, la direction élargie de la CGT, elle était référente du collectif femmes mixité, et engagée sur les questions environnementales et l'égalité hommes-femmes\\n\\nCandidate « par défaut » selon certains, elle aura la lourde tâche de recoller les morceaux d'une CGT profondément divisée, à un moment où la centrale est en première ligne dans la lutte contre la réforme des retraites.\\n\\nLes syndicats sont conviés la semaine prochaine à Matignon pour discuter de questions liées au travail, là où les centrales aimeraient remettre en cause le contenu de la réforme des retraites validée par le Parlement mais pas encore promulguée.\\n\\n(Avec agences)\",\n",
       "  'title': 'CGT : Sophie Binet prend la tête de la Confédération',\n",
       "  'date': '2023-03-31T00:00:00.000',\n",
       "  'article': 'https://www.latribune.fr/economie/france/cgt-sophie-binet-prend-la-tete-de-la-confederation-contre-l-avis-de-philippe-martinez-957355.html'},\n",
       " {'text': 'Dernierement sest deroule le lancement des travaux de lavenue des Marendes, en presence de Theophile Martinez, vice-president de Perpignan Mediterranee metropole, dEdmond Jorda, maire, et de Manuela Basty, maire du Conseil municipal des enfants (CME). Ils ont tous les trois donne le premier coup de pelle pour inaugurer le demarrage du chantier sur cet axe. Le projet impulse par le premier magistrat et son conseil municipal est soutenu par Perpignan Mediterranee metropole et lEtat (dans le cadre du Projet partenarial damenagement-PPA), avec la participation financiere du Departement des Pyrenees-Orientales.\\n\\nLa requalification de lavenue des Marendes est un projet urbain social et economique dont les objectifs sont dengager une revitalisation economique et commerciale, de recreer un ensemble harmonieux, de permettre un acces direct et qualitatif a la mer en priorisant les cheminements actifs, mais egalement de recreer une coherence spatiale globale avec des ambiances differentes et offrir un cadre de vie propice aux echanges.\\n\\nLes travaux ont commence ce mois de fevrier et devraient se terminer en 2025. Ils seront suspendus durant la periode estivale.\\n\\nCapsule temporelle\\n\\nA loccasion de ce lancement, les elus du CME ont souhaite enfouir une capsule temporelle, une maniere de temoigner dans le futur du Sainte-Marie-la-Mer daujourdhui. \"Nous avons choisi de mettre dans cette capsule temporelle, la carte de vux 2022 de la commune, que nous avons tous signes, ainsi quun un petit parchemin avec les empreintes digitales de chaque membre du CME sur lequel est ecrit : Meme le plus petit des doigts laisse une empreinte sur cette terre. Apres, nous avons realise un petit journal avec tous les evenements qui ont et qui vont marquer 2022. Enfin, un masque pour marquer lepidemie de Covid-19 qui touche le monde entier. Nous avons choisi un masque colore pour marquer lespoir que nous gardons face a cette epidemie\", explique Manuela Basty, maire du CME.\\n\\nA cela, le premier magistrat a souhaite ajouter les objets suivants : une photo du conseil municipal, une autre du conseil municipal des enfants, une photo de lavenue des Marendes avant les travaux et enfin LIndependant du jour. Lorsque les travaux damenagement de lavenue debuteront une plaque indiquera lendroit ou est enterree la capsule temporelle. \"Cest un moment historique pour Sainte-Marie-la-Mer. Un chantier qui, je lespere, restera comme un heritage dans lhistoire de Sainte-Marie-la-Mer, tant il est qualitatif, tant il va tirer la commune et les administres vers le haut et tant nous en serons fiers. Cest le top depart du chantier et jen suis tres heureux\", expliquait Edmond Jorda.',\n",
       "  'title': 'Démarrage des travaux de l’avenue des Marendes à Sainte-Marie-la-Mer : \"C’est un moment historique\"',\n",
       "  'date': '2022-02-18T00:00:00.000',\n",
       "  'article': 'https://www.lindependant.fr/2022/02/18/demarrage-des-travaux-de-lavenue-des-marendes-a-sainte-marie-la-mer-cest-un-moment-historique-10120225.php'}]"
      ]
     },
     "execution_count": 2,
     "metadata": {},
     "output_type": "execute_result"
    }
   ],
   "source": [
    "from json import loads, dumps\n",
    "\n",
    "data_sample = [\n",
    "    loads(line)\n",
    "    for line in open(\"data/newspapers_sample.jsonl\", \"r\", encoding=\"utf-8\").readlines()\n",
    "]\n",
    "\n",
    "data = [\n",
    "    loads(line)\n",
    "    for line in open(\"data/newspapers.jsonl\", \"r\", encoding=\"utf-8\").readlines()\n",
    "]\n",
    "\n",
    "data_sample[:3]"
   ]
  },
  {
   "cell_type": "markdown",
   "metadata": {},
   "source": [
    "### Fields\n",
    "\n",
    "What are the fields of the JSON objects?\n"
   ]
  },
  {
   "cell_type": "code",
   "execution_count": 3,
   "metadata": {},
   "outputs": [
    {
     "data": {
      "text/plain": [
       "{'article', 'date', 'text', 'title'}"
      ]
     },
     "execution_count": 3,
     "metadata": {},
     "output_type": "execute_result"
    }
   ],
   "source": [
    "keys = {key for item in data for key in item.keys()}\n",
    "keys"
   ]
  },
  {
   "cell_type": "markdown",
   "metadata": {},
   "source": [
    "### Transform the json objects in dataframes\n"
   ]
  },
  {
   "cell_type": "code",
   "execution_count": 4,
   "metadata": {},
   "outputs": [],
   "source": [
    "df = pd.DataFrame(data)\n",
    "df_sample = pd.DataFrame(data_sample)"
   ]
  },
  {
   "cell_type": "markdown",
   "metadata": {},
   "source": [
    "### Any missing values? (No)\n"
   ]
  },
  {
   "cell_type": "code",
   "execution_count": 5,
   "metadata": {},
   "outputs": [
    {
     "data": {
      "text/plain": [
       "text       0\n",
       "title      0\n",
       "date       0\n",
       "article    0\n",
       "dtype: int64"
      ]
     },
     "execution_count": 5,
     "metadata": {},
     "output_type": "execute_result"
    }
   ],
   "source": [
    "df.isnull().sum()"
   ]
  },
  {
   "cell_type": "markdown",
   "metadata": {},
   "source": [
    "# Lengths of titles and texts\n"
   ]
  },
  {
   "cell_type": "code",
   "execution_count": 6,
   "metadata": {},
   "outputs": [
    {
     "data": {
      "image/png": "[encoded data removed]",
      "text/plain": [
       "<Figure size 1200x800 with 4 Axes>"
      ]
     },
     "metadata": {},
     "output_type": "display_data"
    }
   ],
   "source": [
    "# Calculate the number of characters in titles and text\n",
    "df[\"title_char_count\"] = df[\"title\"].str.len()\n",
    "df[\"text_char_count\"] = df[\"text\"].str.len()\n",
    "\n",
    "# Calculate the number of words in titles and text\n",
    "df[\"title_word_count\"] = df[\"title\"].str.split().str.len()\n",
    "df[\"text_word_count\"] = df[\"text\"].str.split().str.len()\n",
    "\n",
    "# Create a figure with subplots\n",
    "fig, axs = plt.subplots(2, 2, figsize=(12, 8))\n",
    "\n",
    "# Boxplot of character count in titles\n",
    "axs[0, 0].hist(df[\"title_char_count\"], bins=20)\n",
    "axs[0, 0].set_title(\"Character Count in Titles\")\n",
    "axs[0, 0].set_ylabel(\"Number of Characters\")\n",
    "\n",
    "# Boxplot of character count in text\n",
    "axs[0, 1].hist(df[\"text_char_count\"], bins=20)\n",
    "axs[0, 1].set_title(\"Character Count in Text\")\n",
    "axs[0, 1].set_ylabel(\"Number of Characters\")\n",
    "\n",
    "# Histogram of word count in titles\n",
    "axs[1, 0].hist(df[\"title_word_count\"], bins=20)\n",
    "axs[1, 0].set_title(\"Word Count in Titles\")\n",
    "axs[1, 0].set_xlabel(\"Number of Words\")\n",
    "axs[1, 0].set_ylabel(\"Frequency\")\n",
    "\n",
    "# Histogram of word count in text\n",
    "axs[1, 1].hist(df[\"text_word_count\"], bins=20)\n",
    "axs[1, 1].set_title(\"Word Count in Text\")\n",
    "axs[1, 1].set_xlabel(\"Number of Words\")\n",
    "axs[1, 1].set_ylabel(\"Frequency\")\n",
    "\n",
    "# Adjust the spacing between subplots\n",
    "plt.tight_layout()\n",
    "\n",
    "# Display the plot\n",
    "plt.show()"
   ]
  },
  {
   "cell_type": "code",
   "execution_count": 7,
   "metadata": {},
   "outputs": [
    {
     "data": {
      "text/html": [
       "<div>\n",
       "<style scoped>\n",
       "    .dataframe tbody tr th:only-of-type {\n",
       "        vertical-align: middle;\n",
       "    }\n",
       "\n",
       "    .dataframe tbody tr th {\n",
       "        vertical-align: top;\n",
       "    }\n",
       "\n",
       "    .dataframe thead th {\n",
       "        text-align: right;\n",
       "    }\n",
       "</style>\n",
       "<table border=\"1\" class=\"dataframe\">\n",
       "  <thead>\n",
       "    <tr style=\"text-align: right;\">\n",
       "      <th></th>\n",
       "      <th>title</th>\n",
       "      <th>title_char_count</th>\n",
       "    </tr>\n",
       "  </thead>\n",
       "  <tbody>\n",
       "    <tr>\n",
       "      <th>42978</th>\n",
       "      <td>L'essentiel du sport dans nos régions. Antoine...</td>\n",
       "      <td>259</td>\n",
       "    </tr>\n",
       "    <tr>\n",
       "      <th>48421</th>\n",
       "      <td>En image | ddddddddddddddddddddddddddddddddddd...</td>\n",
       "      <td>249</td>\n",
       "    </tr>\n",
       "    <tr>\n",
       "      <th>28621</th>\n",
       "      <td>La Suédoise Linn Grant regarde son drive, au d...</td>\n",
       "      <td>248</td>\n",
       "    </tr>\n",
       "    <tr>\n",
       "      <th>91553</th>\n",
       "      <td>La Matinale. Pierre Palmade gravement blessé d...</td>\n",
       "      <td>245</td>\n",
       "    </tr>\n",
       "    <tr>\n",
       "      <th>27317</th>\n",
       "      <td>L'essentiel du sport dans nos régions. Premier...</td>\n",
       "      <td>238</td>\n",
       "    </tr>\n",
       "    <tr>\n",
       "      <th>...</th>\n",
       "      <td>...</td>\n",
       "      <td>...</td>\n",
       "    </tr>\n",
       "    <tr>\n",
       "      <th>99320</th>\n",
       "      <td>Des naturalistes d'Alsace Bossue mobilisés con...</td>\n",
       "      <td>165</td>\n",
       "    </tr>\n",
       "    <tr>\n",
       "      <th>11647</th>\n",
       "      <td>Mâcon (communiqué ). La commission des finance...</td>\n",
       "      <td>165</td>\n",
       "    </tr>\n",
       "    <tr>\n",
       "      <th>77353</th>\n",
       "      <td>Disparition d'Alex Batty : \"Il nous accompagna...</td>\n",
       "      <td>165</td>\n",
       "    </tr>\n",
       "    <tr>\n",
       "      <th>16987</th>\n",
       "      <td>Un 47eme fourgon d'intervention percuté sur l'...</td>\n",
       "      <td>165</td>\n",
       "    </tr>\n",
       "    <tr>\n",
       "      <th>15861</th>\n",
       "      <td>Météo. De Grenoble à Montélimar, d'Annecy à Av...</td>\n",
       "      <td>165</td>\n",
       "    </tr>\n",
       "  </tbody>\n",
       "</table>\n",
       "<p>200 rows × 2 columns</p>\n",
       "</div>"
      ],
      "text/plain": [
       "                                                   title  title_char_count\n",
       "42978  L'essentiel du sport dans nos régions. Antoine...               259\n",
       "48421  En image | ddddddddddddddddddddddddddddddddddd...               249\n",
       "28621  La Suédoise Linn Grant regarde son drive, au d...               248\n",
       "91553  La Matinale. Pierre Palmade gravement blessé d...               245\n",
       "27317  L'essentiel du sport dans nos régions. Premier...               238\n",
       "...                                                  ...               ...\n",
       "99320  Des naturalistes d'Alsace Bossue mobilisés con...               165\n",
       "11647  Mâcon (communiqué ). La commission des finance...               165\n",
       "77353  Disparition d'Alex Batty : \"Il nous accompagna...               165\n",
       "16987  Un 47eme fourgon d'intervention percuté sur l'...               165\n",
       "15861  Météo. De Grenoble à Montélimar, d'Annecy à Av...               165\n",
       "\n",
       "[200 rows x 2 columns]"
      ]
     },
     "execution_count": 7,
     "metadata": {},
     "output_type": "execute_result"
    }
   ],
   "source": [
    "# Show the longuest titles\n",
    "longuest_titles = df.sort_values(\"title_char_count\", ascending=False).head(200)\n",
    "\n",
    "longuest_titles[[\"title\", \"title_char_count\"]]"
   ]
  },
  {
   "cell_type": "markdown",
   "metadata": {},
   "source": [
    "### Repeating characters\n"
   ]
  },
  {
   "cell_type": "markdown",
   "metadata": {},
   "source": [
    "- We found the text `dddddddddddddddddddddddddddddddddddddddddddddddddddddddddddddddddddddddddddddddddddddddddddddddddddddddddddddeeeeeeeeeeeeeeeeeeeePose`in a title.\n",
    "  It might be useful to count the number of repeating characters in the text.\n"
   ]
  },
  {
   "cell_type": "code",
   "execution_count": 8,
   "metadata": {},
   "outputs": [],
   "source": [
    "def count_repeating_chars(text: str) -> int:\n",
    "    \"\"\"Count the number of repeating characters in a string.\n",
    "\n",
    "    Example:\n",
    "    count_repeating_chars('aab') -> 1\n",
    "    count_repeating_chars('aaabb') -> 3\n",
    "    \"\"\"\n",
    "    count = 0\n",
    "    for i in range(1, len(text)):\n",
    "        if text[i] == text[i - 1]:\n",
    "            count += 1\n",
    "    return count\n",
    "\n",
    "\n",
    "assert count_repeating_chars(\"aab\") == 1\n",
    "assert count_repeating_chars(\"aaabb\") == 3"
   ]
  },
  {
   "cell_type": "code",
   "execution_count": 9,
   "metadata": {},
   "outputs": [],
   "source": [
    "def count_repeating_non_whitespace_chars(text: str) -> int:\n",
    "    \"\"\"Count the number of repeating non-whitespace characters in a string.\n",
    "\n",
    "    Example:\n",
    "    count_repeating_non_whitespace_chars('aab') -> 1\n",
    "    count_repeating_non_whitespace_chars('aaabb') -> 3\n",
    "    count_repeating_non_whitespace_chars('aa a') -> 2\n",
    "    \"\"\"\n",
    "    text = text.replace(\" \", \"\").replace(\"\\n\", \"\").replace(\"\\t\", \"\").replace(\"\\r\", \"\")\n",
    "    return count_repeating_chars(text)\n",
    "\n",
    "\n",
    "assert count_repeating_non_whitespace_chars(\"aab\") == 1\n",
    "assert count_repeating_non_whitespace_chars(\"aaabb\") == 3\n",
    "assert count_repeating_non_whitespace_chars(\"aa a\") == 2"
   ]
  },
  {
   "cell_type": "markdown",
   "metadata": {},
   "source": [
    "Only counting the number of repeating characters in the text would penalize long texts. We should normalize this number by the length of the text.\n"
   ]
  },
  {
   "cell_type": "code",
   "execution_count": 10,
   "metadata": {},
   "outputs": [],
   "source": [
    "# Count repeating characters in titles and text and dividing by the number of characters\n",
    "\n",
    "df[\"title_repeating_chars\"] = (\n",
    "    df[\"title\"].apply(count_repeating_non_whitespace_chars) / df[\"title_char_count\"]\n",
    ")\n",
    "df[\"text_repeating_chars\"] = (\n",
    "    df[\"text\"].apply(count_repeating_non_whitespace_chars) / df[\"text_char_count\"]\n",
    ")"
   ]
  },
  {
   "cell_type": "code",
   "execution_count": 11,
   "metadata": {},
   "outputs": [
    {
     "data": {
      "text/html": [
       "<div>\n",
       "<style scoped>\n",
       "    .dataframe tbody tr th:only-of-type {\n",
       "        vertical-align: middle;\n",
       "    }\n",
       "\n",
       "    .dataframe tbody tr th {\n",
       "        vertical-align: top;\n",
       "    }\n",
       "\n",
       "    .dataframe thead th {\n",
       "        text-align: right;\n",
       "    }\n",
       "</style>\n",
       "<table border=\"1\" class=\"dataframe\">\n",
       "  <thead>\n",
       "    <tr style=\"text-align: right;\">\n",
       "      <th></th>\n",
       "      <th>title</th>\n",
       "      <th>title_repeating_chars</th>\n",
       "    </tr>\n",
       "  </thead>\n",
       "  <tbody>\n",
       "    <tr>\n",
       "      <th>48421</th>\n",
       "      <td>En image | ddddddddddddddddddddddddddddddddddd...</td>\n",
       "      <td>0.510040</td>\n",
       "    </tr>\n",
       "    <tr>\n",
       "      <th>34828</th>\n",
       "      <td>ZOOM</td>\n",
       "      <td>0.250000</td>\n",
       "    </tr>\n",
       "    <tr>\n",
       "      <th>16286</th>\n",
       "      <td>495 000 €</td>\n",
       "      <td>0.222222</td>\n",
       "    </tr>\n",
       "    <tr>\n",
       "      <th>9521</th>\n",
       "      <td>XXXXXXXXX. Une législation qui évolue en perma...</td>\n",
       "      <td>0.176471</td>\n",
       "    </tr>\n",
       "    <tr>\n",
       "      <th>22558</th>\n",
       "      <td>500 à sillonner le terroir</td>\n",
       "      <td>0.153846</td>\n",
       "    </tr>\n",
       "    <tr>\n",
       "      <th>73655</th>\n",
       "      <td>Comment placer 50 000 euros</td>\n",
       "      <td>0.148148</td>\n",
       "    </tr>\n",
       "    <tr>\n",
       "      <th>82484</th>\n",
       "      <td>Halloween en familles</td>\n",
       "      <td>0.142857</td>\n",
       "    </tr>\n",
       "    <tr>\n",
       "      <th>12681</th>\n",
       "      <td>Football. ASSE : le successeur de Laurent Batl...</td>\n",
       "      <td>0.121212</td>\n",
       "    </tr>\n",
       "    <tr>\n",
       "      <th>63319</th>\n",
       "      <td>On a testé...l'attelage !</td>\n",
       "      <td>0.120000</td>\n",
       "    </tr>\n",
       "    <tr>\n",
       "      <th>52597</th>\n",
       "      <td>Un football lorrain au fort accent polonais</td>\n",
       "      <td>0.116279</td>\n",
       "    </tr>\n",
       "  </tbody>\n",
       "</table>\n",
       "</div>"
      ],
      "text/plain": [
       "                                                   title  \\\n",
       "48421  En image | ddddddddddddddddddddddddddddddddddd...   \n",
       "34828                                               ZOOM   \n",
       "16286                                          495 000 €   \n",
       "9521   XXXXXXXXX. Une législation qui évolue en perma...   \n",
       "22558                         500 à sillonner le terroir   \n",
       "73655                        Comment placer 50 000 euros   \n",
       "82484                              Halloween en familles   \n",
       "12681  Football. ASSE : le successeur de Laurent Batl...   \n",
       "63319                          On a testé...l'attelage !   \n",
       "52597        Un football lorrain au fort accent polonais   \n",
       "\n",
       "       title_repeating_chars  \n",
       "48421               0.510040  \n",
       "34828               0.250000  \n",
       "16286               0.222222  \n",
       "9521                0.176471  \n",
       "22558               0.153846  \n",
       "73655               0.148148  \n",
       "82484               0.142857  \n",
       "12681               0.121212  \n",
       "63319               0.120000  \n",
       "52597               0.116279  "
      ]
     },
     "execution_count": 11,
     "metadata": {},
     "output_type": "execute_result"
    }
   ],
   "source": [
    "# Show the rows with the highest ratio of repeating characters in titles\n",
    "df.sort_values(\"title_repeating_chars\", ascending=False).head(10)[\n",
    "    [\"title\", \"title_repeating_chars\"]\n",
    "]"
   ]
  },
  {
   "cell_type": "code",
   "execution_count": 12,
   "metadata": {},
   "outputs": [
    {
     "data": {
      "text/html": [
       "<div>\n",
       "<style scoped>\n",
       "    .dataframe tbody tr th:only-of-type {\n",
       "        vertical-align: middle;\n",
       "    }\n",
       "\n",
       "    .dataframe tbody tr th {\n",
       "        vertical-align: top;\n",
       "    }\n",
       "\n",
       "    .dataframe thead th {\n",
       "        text-align: right;\n",
       "    }\n",
       "</style>\n",
       "<table border=\"1\" class=\"dataframe\">\n",
       "  <thead>\n",
       "    <tr style=\"text-align: right;\">\n",
       "      <th></th>\n",
       "      <th>title</th>\n",
       "      <th>text</th>\n",
       "      <th>text_repeating_chars</th>\n",
       "    </tr>\n",
       "  </thead>\n",
       "  <tbody>\n",
       "    <tr>\n",
       "      <th>48421</th>\n",
       "      <td>En image | ddddddddddddddddddddddddddddddddddd...</td>\n",
       "      <td>En image | ddddddddddddddddddddddddddddddddddd...</td>\n",
       "      <td>0.414791</td>\n",
       "    </tr>\n",
       "    <tr>\n",
       "      <th>56337</th>\n",
       "      <td>Confolens : Le prix Abel Desaphy disputé jeudi</td>\n",
       "      <td>Pour les épreuves d’école de vélo, les dossard...</td>\n",
       "      <td>0.314079</td>\n",
       "    </tr>\n",
       "    <tr>\n",
       "      <th>92943</th>\n",
       "      <td>Football : découvrez les affiches du 5e tour d...</td>\n",
       "      <td>????? ?? ?????? : ???????? ?? ?? ???? \\ud83c\\u...</td>\n",
       "      <td>0.235808</td>\n",
       "    </tr>\n",
       "    <tr>\n",
       "      <th>26287</th>\n",
       "      <td>Aveyron : suivez le week-end de sports en direct</td>\n",
       "      <td>Football, basket-ball, handball, moto ou encor...</td>\n",
       "      <td>0.205108</td>\n",
       "    </tr>\n",
       "    <tr>\n",
       "      <th>73389</th>\n",
       "      <td>Football, basket-ball, handball : suivez les r...</td>\n",
       "      <td>Suivez ci-dessous l'avancée des résultats spor...</td>\n",
       "      <td>0.175405</td>\n",
       "    </tr>\n",
       "    <tr>\n",
       "      <th>27180</th>\n",
       "      <td>Football, handball, trail : retrouvez tous les...</td>\n",
       "      <td>Retrouvez ci-dessous l'ensemble des résultats ...</td>\n",
       "      <td>0.135633</td>\n",
       "    </tr>\n",
       "    <tr>\n",
       "      <th>95416</th>\n",
       "      <td>Rugby, football, basket-ball : suivez en direc...</td>\n",
       "      <td>Football, rugby à XIII et à XV, handball, bask...</td>\n",
       "      <td>0.119357</td>\n",
       "    </tr>\n",
       "    <tr>\n",
       "      <th>64024</th>\n",
       "      <td>Football, auto, basket-ball : suivez en direct...</td>\n",
       "      <td>Football, rugby à XIII, handball, automobile.....</td>\n",
       "      <td>0.101159</td>\n",
       "    </tr>\n",
       "    <tr>\n",
       "      <th>55529</th>\n",
       "      <td>Basket-ball, rugby, football : découvrez tous ...</td>\n",
       "      <td>Basket-ball, football, handball, rugby....Retr...</td>\n",
       "      <td>0.100370</td>\n",
       "    </tr>\n",
       "    <tr>\n",
       "      <th>81783</th>\n",
       "      <td>Football, basket-ball, rugby : le Sporting dec...</td>\n",
       "      <td>Football, rugby à XIII et à XV, handball, cour...</td>\n",
       "      <td>0.093532</td>\n",
       "    </tr>\n",
       "  </tbody>\n",
       "</table>\n",
       "</div>"
      ],
      "text/plain": [
       "                                                   title  \\\n",
       "48421  En image | ddddddddddddddddddddddddddddddddddd...   \n",
       "56337     Confolens : Le prix Abel Desaphy disputé jeudi   \n",
       "92943  Football : découvrez les affiches du 5e tour d...   \n",
       "26287   Aveyron : suivez le week-end de sports en direct   \n",
       "73389  Football, basket-ball, handball : suivez les r...   \n",
       "27180  Football, handball, trail : retrouvez tous les...   \n",
       "95416  Rugby, football, basket-ball : suivez en direc...   \n",
       "64024  Football, auto, basket-ball : suivez en direct...   \n",
       "55529  Basket-ball, rugby, football : découvrez tous ...   \n",
       "81783  Football, basket-ball, rugby : le Sporting dec...   \n",
       "\n",
       "                                                    text  text_repeating_chars  \n",
       "48421  En image | ddddddddddddddddddddddddddddddddddd...              0.414791  \n",
       "56337  Pour les épreuves d’école de vélo, les dossard...              0.314079  \n",
       "92943  ????? ?? ?????? : ???????? ?? ?? ???? \\ud83c\\u...              0.235808  \n",
       "26287  Football, basket-ball, handball, moto ou encor...              0.205108  \n",
       "73389  Suivez ci-dessous l'avancée des résultats spor...              0.175405  \n",
       "27180  Retrouvez ci-dessous l'ensemble des résultats ...              0.135633  \n",
       "95416  Football, rugby à XIII et à XV, handball, bask...              0.119357  \n",
       "64024  Football, rugby à XIII, handball, automobile.....              0.101159  \n",
       "55529  Basket-ball, football, handball, rugby....Retr...              0.100370  \n",
       "81783  Football, rugby à XIII et à XV, handball, cour...              0.093532  "
      ]
     },
     "execution_count": 12,
     "metadata": {},
     "output_type": "execute_result"
    }
   ],
   "source": [
    "# Same for text\n",
    "df.sort_values(\"text_repeating_chars\", ascending=False).head(10)[\n",
    "    [\"title\", \"text\", \"text_repeating_chars\"]\n",
    "]"
   ]
  },
  {
   "cell_type": "markdown",
   "metadata": {},
   "source": [
    "Turns out the only problematic text is the one mentioned above.\n"
   ]
  },
  {
   "cell_type": "code",
   "execution_count": 13,
   "metadata": {},
   "outputs": [],
   "source": [
    "# Drops rows having a title with more than 0.50 repeating characters score\n",
    "df = df[df[\"title_repeating_chars\"] < 0.50]"
   ]
  },
  {
   "cell_type": "markdown",
   "metadata": {},
   "source": [
    "### Looking at the shortests titles\n"
   ]
  },
  {
   "cell_type": "code",
   "execution_count": 14,
   "metadata": {},
   "outputs": [
    {
     "data": {
      "text/html": [
       "<div>\n",
       "<style scoped>\n",
       "    .dataframe tbody tr th:only-of-type {\n",
       "        vertical-align: middle;\n",
       "    }\n",
       "\n",
       "    .dataframe tbody tr th {\n",
       "        vertical-align: top;\n",
       "    }\n",
       "\n",
       "    .dataframe thead th {\n",
       "        text-align: right;\n",
       "    }\n",
       "</style>\n",
       "<table border=\"1\" class=\"dataframe\">\n",
       "  <thead>\n",
       "    <tr style=\"text-align: right;\">\n",
       "      <th></th>\n",
       "      <th>title</th>\n",
       "      <th>title_char_count</th>\n",
       "      <th>text</th>\n",
       "    </tr>\n",
       "  </thead>\n",
       "  <tbody>\n",
       "    <tr>\n",
       "      <th>59191</th>\n",
       "      <td>8</td>\n",
       "      <td>1</td>\n",
       "      <td>...pour lire la suite, rejoignez notre communa...</td>\n",
       "    </tr>\n",
       "    <tr>\n",
       "      <th>85033</th>\n",
       "      <td>164</td>\n",
       "      <td>3</td>\n",
       "      <td>164\\n\\nC’est en millions d’euros, la somme des...</td>\n",
       "    </tr>\n",
       "    <tr>\n",
       "      <th>43755</th>\n",
       "      <td>3,38</td>\n",
       "      <td>4</td>\n",
       "      <td>en millions d’euros, c’est le montant de l’env...</td>\n",
       "    </tr>\n",
       "    <tr>\n",
       "      <th>34828</th>\n",
       "      <td>ZOOM</td>\n",
       "      <td>4</td>\n",
       "      <td>ZOOM\\n\\nPar Le Progrès - Hier à 18:37 - Temps ...</td>\n",
       "    </tr>\n",
       "    <tr>\n",
       "      <th>62470</th>\n",
       "      <td>L'Ouïe</td>\n",
       "      <td>6</td>\n",
       "      <td>Entendre c’est aussi se donner le temps d’appr...</td>\n",
       "    </tr>\n",
       "    <tr>\n",
       "      <th>87771</th>\n",
       "      <td>Vite lu</td>\n",
       "      <td>7</td>\n",
       "      <td>Arbres abattus avenue du 8-Mai-1945. Les agent...</td>\n",
       "    </tr>\n",
       "    <tr>\n",
       "      <th>92692</th>\n",
       "      <td>➤  Voir</td>\n",
       "      <td>7</td>\n",
       "      <td>➤ Voir\\n\\nPar Le Bien Public - Aujourd'hui à 1...</td>\n",
       "    </tr>\n",
       "    <tr>\n",
       "      <th>49896</th>\n",
       "      <td>Vite lu</td>\n",
       "      <td>7</td>\n",
       "      <td>Concert avec dimanche avec Franck Besingrand. ...</td>\n",
       "    </tr>\n",
       "    <tr>\n",
       "      <th>2078</th>\n",
       "      <td>Repères</td>\n",
       "      <td>7</td>\n",
       "      <td>Repères\\n\\nPar Le Dauphiné Libéré - Aujourd'hu...</td>\n",
       "    </tr>\n",
       "    <tr>\n",
       "      <th>6891</th>\n",
       "      <td>contexte</td>\n",
       "      <td>8</td>\n",
       "      <td>...pour lire la suite, rejoignez notre communa...</td>\n",
       "    </tr>\n",
       "  </tbody>\n",
       "</table>\n",
       "</div>"
      ],
      "text/plain": [
       "          title  title_char_count  \\\n",
       "59191         8                 1   \n",
       "85033       164                 3   \n",
       "43755      3,38                 4   \n",
       "34828      ZOOM                 4   \n",
       "62470    L'Ouïe                 6   \n",
       "87771   Vite lu                 7   \n",
       "92692   ➤  Voir                 7   \n",
       "49896   Vite lu                 7   \n",
       "2078    Repères                 7   \n",
       "6891   contexte                 8   \n",
       "\n",
       "                                                    text  \n",
       "59191  ...pour lire la suite, rejoignez notre communa...  \n",
       "85033  164\\n\\nC’est en millions d’euros, la somme des...  \n",
       "43755  en millions d’euros, c’est le montant de l’env...  \n",
       "34828  ZOOM\\n\\nPar Le Progrès - Hier à 18:37 - Temps ...  \n",
       "62470  Entendre c’est aussi se donner le temps d’appr...  \n",
       "87771  Arbres abattus avenue du 8-Mai-1945. Les agent...  \n",
       "92692  ➤ Voir\\n\\nPar Le Bien Public - Aujourd'hui à 1...  \n",
       "49896  Concert avec dimanche avec Franck Besingrand. ...  \n",
       "2078   Repères\\n\\nPar Le Dauphiné Libéré - Aujourd'hu...  \n",
       "6891   ...pour lire la suite, rejoignez notre communa...  "
      ]
     },
     "execution_count": 14,
     "metadata": {},
     "output_type": "execute_result"
    }
   ],
   "source": [
    "df.sort_values(\"title_char_count\").head(10)[[\"title\", \"title_char_count\", \"text\"]]"
   ]
  },
  {
   "cell_type": "markdown",
   "metadata": {},
   "source": [
    "Let's find titles which only consists of numbers and special characters\n"
   ]
  },
  {
   "cell_type": "code",
   "execution_count": 15,
   "metadata": {},
   "outputs": [
    {
     "data": {
      "text/plain": [
       "'abcdefghijklmnopqrstuvwxyzABCDEFGHIJKLMNOPQRSTUVWXYZàâçéèêëîïôûüÿæœ'"
      ]
     },
     "execution_count": 15,
     "metadata": {},
     "output_type": "execute_result"
    }
   ],
   "source": [
    "import string\n",
    "\n",
    "FRENCH_LETTERS = string.ascii_letters + \"àâçéèêëîïôûüÿæœ\"\n",
    "FRENCH_LETTERS"
   ]
  },
  {
   "cell_type": "code",
   "execution_count": 16,
   "metadata": {},
   "outputs": [],
   "source": [
    "def get_only_alpha_text(text: str, alphabset_set=FRENCH_LETTERS) -> str:\n",
    "    \"\"\"Return a string containing only the letters of the input string.\n",
    "\n",
    "    Example:\n",
    "    get_only_alpha_text(\"Hello, world 23,1!\") -> \"Helloworld\"\n",
    "    \"\"\"\n",
    "    return \"\".join([c for c in text if c in alphabset_set])\n",
    "\n",
    "\n",
    "assert get_only_alpha_text(\"Hello, world 23,1!\") == \"Helloworld\""
   ]
  },
  {
   "cell_type": "code",
   "execution_count": 17,
   "metadata": {},
   "outputs": [
    {
     "data": {
      "text/html": [
       "<div>\n",
       "<style scoped>\n",
       "    .dataframe tbody tr th:only-of-type {\n",
       "        vertical-align: middle;\n",
       "    }\n",
       "\n",
       "    .dataframe tbody tr th {\n",
       "        vertical-align: top;\n",
       "    }\n",
       "\n",
       "    .dataframe thead th {\n",
       "        text-align: right;\n",
       "    }\n",
       "</style>\n",
       "<table border=\"1\" class=\"dataframe\">\n",
       "  <thead>\n",
       "    <tr style=\"text-align: right;\">\n",
       "      <th></th>\n",
       "      <th>title</th>\n",
       "      <th>title_alpha</th>\n",
       "      <th>title_alpha_char_count</th>\n",
       "    </tr>\n",
       "  </thead>\n",
       "  <tbody>\n",
       "    <tr>\n",
       "      <th>16286</th>\n",
       "      <td>495 000 €</td>\n",
       "      <td></td>\n",
       "      <td>0</td>\n",
       "    </tr>\n",
       "    <tr>\n",
       "      <th>43755</th>\n",
       "      <td>3,38</td>\n",
       "      <td></td>\n",
       "      <td>0</td>\n",
       "    </tr>\n",
       "    <tr>\n",
       "      <th>59191</th>\n",
       "      <td>8</td>\n",
       "      <td></td>\n",
       "      <td>0</td>\n",
       "    </tr>\n",
       "    <tr>\n",
       "      <th>85033</th>\n",
       "      <td>164</td>\n",
       "      <td></td>\n",
       "      <td>0</td>\n",
       "    </tr>\n",
       "    <tr>\n",
       "      <th>34828</th>\n",
       "      <td>ZOOM</td>\n",
       "      <td>ZOOM</td>\n",
       "      <td>4</td>\n",
       "    </tr>\n",
       "    <tr>\n",
       "      <th>...</th>\n",
       "      <td>...</td>\n",
       "      <td>...</td>\n",
       "      <td>...</td>\n",
       "    </tr>\n",
       "    <tr>\n",
       "      <th>17074</th>\n",
       "      <td>SAVOIE. État civil</td>\n",
       "      <td>SAVOIEtatcivil</td>\n",
       "      <td>14</td>\n",
       "    </tr>\n",
       "    <tr>\n",
       "      <th>47951</th>\n",
       "      <td>SAVOIE. État civil</td>\n",
       "      <td>SAVOIEtatcivil</td>\n",
       "      <td>14</td>\n",
       "    </tr>\n",
       "    <tr>\n",
       "      <th>89156</th>\n",
       "      <td>Moselle. Et aussi…</td>\n",
       "      <td>MoselleEtaussi</td>\n",
       "      <td>14</td>\n",
       "    </tr>\n",
       "    <tr>\n",
       "      <th>16206</th>\n",
       "      <td>SAVOIE. État civil</td>\n",
       "      <td>SAVOIEtatcivil</td>\n",
       "      <td>14</td>\n",
       "    </tr>\n",
       "    <tr>\n",
       "      <th>82551</th>\n",
       "      <td>SAVOIE. État civil</td>\n",
       "      <td>SAVOIEtatcivil</td>\n",
       "      <td>14</td>\n",
       "    </tr>\n",
       "  </tbody>\n",
       "</table>\n",
       "<p>100 rows × 3 columns</p>\n",
       "</div>"
      ],
      "text/plain": [
       "                    title     title_alpha  title_alpha_char_count\n",
       "16286           495 000 €                                       0\n",
       "43755                3,38                                       0\n",
       "59191                   8                                       0\n",
       "85033                 164                                       0\n",
       "34828                ZOOM            ZOOM                       4\n",
       "...                   ...             ...                     ...\n",
       "17074  SAVOIE. État civil  SAVOIEtatcivil                      14\n",
       "47951  SAVOIE. État civil  SAVOIEtatcivil                      14\n",
       "89156  Moselle. Et aussi…  MoselleEtaussi                      14\n",
       "16206  SAVOIE. État civil  SAVOIEtatcivil                      14\n",
       "82551  SAVOIE. État civil  SAVOIEtatcivil                      14\n",
       "\n",
       "[100 rows x 3 columns]"
      ]
     },
     "execution_count": 17,
     "metadata": {},
     "output_type": "execute_result"
    }
   ],
   "source": [
    "# Create a new column with only the letters of the title\n",
    "\n",
    "df[\"title_alpha\"] = df[\"title\"].apply(get_only_alpha_text)\n",
    "\n",
    "# Create a new column with the number of chars in title_alpha\n",
    "\n",
    "df[\"title_alpha_char_count\"] = df[\"title_alpha\"].str.len()\n",
    "\n",
    "# Show the rows with the shortest title_alpha\n",
    "df.sort_values(\"title_alpha_char_count\").head(100)[\n",
    "    [\"title\", \"title_alpha\", \"title_alpha_char_count\"]\n",
    "]"
   ]
  },
  {
   "cell_type": "markdown",
   "metadata": {},
   "source": [
    "We remove the rows having titles with less than 10 alpha characters\n"
   ]
  },
  {
   "cell_type": "code",
   "execution_count": 18,
   "metadata": {},
   "outputs": [
    {
     "name": "stdout",
     "output_type": "stream",
     "text": [
      "Removed 37 rows\n"
     ]
    }
   ],
   "source": [
    "# We remove the rows having titles with less than 10 alpha characters\n",
    "before_len = len(df)\n",
    "df = df[df[\"title_alpha_char_count\"] >= 10]\n",
    "after_len = len(df)\n",
    "\n",
    "print(f\"Removed {before_len - after_len} rows\")"
   ]
  },
  {
   "cell_type": "markdown",
   "metadata": {},
   "source": [
    "# Url\n"
   ]
  },
  {
   "cell_type": "markdown",
   "metadata": {},
   "source": [
    "### Extract URL\n"
   ]
  },
  {
   "cell_type": "code",
   "execution_count": 19,
   "metadata": {},
   "outputs": [
    {
     "data": {
      "text/html": [
       "<div>\n",
       "<style scoped>\n",
       "    .dataframe tbody tr th:only-of-type {\n",
       "        vertical-align: middle;\n",
       "    }\n",
       "\n",
       "    .dataframe tbody tr th {\n",
       "        vertical-align: top;\n",
       "    }\n",
       "\n",
       "    .dataframe thead th {\n",
       "        text-align: right;\n",
       "    }\n",
       "</style>\n",
       "<table border=\"1\" class=\"dataframe\">\n",
       "  <thead>\n",
       "    <tr style=\"text-align: right;\">\n",
       "      <th></th>\n",
       "      <th>text</th>\n",
       "      <th>title</th>\n",
       "      <th>date</th>\n",
       "      <th>article</th>\n",
       "      <th>title_char_count</th>\n",
       "      <th>text_char_count</th>\n",
       "      <th>title_word_count</th>\n",
       "      <th>text_word_count</th>\n",
       "      <th>title_repeating_chars</th>\n",
       "      <th>text_repeating_chars</th>\n",
       "      <th>title_alpha</th>\n",
       "      <th>title_alpha_char_count</th>\n",
       "      <th>article_id</th>\n",
       "      <th>article_url</th>\n",
       "    </tr>\n",
       "  </thead>\n",
       "  <tbody>\n",
       "    <tr>\n",
       "      <th>0</th>\n",
       "      <td>L'international de pétanque de Sète, avait lie...</td>\n",
       "      <td>International de Sète : la pétanque, une affai...</td>\n",
       "      <td>2022-03-07T00:00:00.000</td>\n",
       "      <td>2047761 at https://france3-regions.francetvinf...</td>\n",
       "      <td>74</td>\n",
       "      <td>2397</td>\n",
       "      <td>13</td>\n",
       "      <td>411</td>\n",
       "      <td>0.027027</td>\n",
       "      <td>0.026283</td>\n",
       "      <td>InternationaldeSètelapétanqueuneaffairedefamil...</td>\n",
       "      <td>60</td>\n",
       "      <td>2047761</td>\n",
       "      <td>https://france3-regions.francetvinfo.fr/occitanie</td>\n",
       "    </tr>\n",
       "    <tr>\n",
       "      <th>1</th>\n",
       "      <td>Ce contenu est bloqué car vous n'avez pas acce...</td>\n",
       "      <td>Massif des Vosges. La route des Crêtes fermée ...</td>\n",
       "      <td>2023-11-26T00:00:00.000</td>\n",
       "      <td>https://www.vosgesmatin.fr/environnement/2023/...</td>\n",
       "      <td>70</td>\n",
       "      <td>594</td>\n",
       "      <td>13</td>\n",
       "      <td>95</td>\n",
       "      <td>0.014286</td>\n",
       "      <td>0.026936</td>\n",
       "      <td>MassifdesVosgesLaroutedesCrêtesferméeàpartirdu...</td>\n",
       "      <td>56</td>\n",
       "      <td>None</td>\n",
       "      <td>https://www.vosgesmatin.fr/environnement/2023/...</td>\n",
       "    </tr>\n",
       "    <tr>\n",
       "      <th>2</th>\n",
       "      <td>Le tribunal de commerce de Chambéry va connaît...</td>\n",
       "      <td>Savoie. Discrimination raciale: quatre chauffe...</td>\n",
       "      <td>2023-09-06T00:00:00.000</td>\n",
       "      <td>https://www.ledauphine.com/faits-divers-justic...</td>\n",
       "      <td>102</td>\n",
       "      <td>397</td>\n",
       "      <td>13</td>\n",
       "      <td>64</td>\n",
       "      <td>0.019608</td>\n",
       "      <td>0.027708</td>\n",
       "      <td>SavoieDiscriminationracialequatrechauffeurspor...</td>\n",
       "      <td>88</td>\n",
       "      <td>None</td>\n",
       "      <td>https://www.ledauphine.com/faits-divers-justic...</td>\n",
       "    </tr>\n",
       "    <tr>\n",
       "      <th>3</th>\n",
       "      <td>La 38e campagne d’hiver de l’association comme...</td>\n",
       "      <td>TÉMOIGNAGE. Les Restos du Coeur recrutent : \"o...</td>\n",
       "      <td>2022-11-09T00:00:00.000</td>\n",
       "      <td>2651444 at https://france3-regions.francetvinf...</td>\n",
       "      <td>97</td>\n",
       "      <td>4721</td>\n",
       "      <td>17</td>\n",
       "      <td>793</td>\n",
       "      <td>0.030928</td>\n",
       "      <td>0.026477</td>\n",
       "      <td>TMOIGNAGELesRestosduCoeurrecrutentonestnourrid...</td>\n",
       "      <td>75</td>\n",
       "      <td>2651444</td>\n",
       "      <td>https://france3-regions.francetvinfo.fr/occita...</td>\n",
       "    </tr>\n",
       "    <tr>\n",
       "      <th>4</th>\n",
       "      <td>Sur le même sujet Dordogne : contre le cancer ...</td>\n",
       "      <td>Mars bleu, pour favoriser le dépistage du canc...</td>\n",
       "      <td>2022-03-11T00:00:00.000</td>\n",
       "      <td>https://www.sudouest.fr/dordogne/thiviers/mars...</td>\n",
       "      <td>77</td>\n",
       "      <td>853</td>\n",
       "      <td>12</td>\n",
       "      <td>131</td>\n",
       "      <td>0.000000</td>\n",
       "      <td>0.017585</td>\n",
       "      <td>Marsbleupourfavoriserledépistageducancercolore...</td>\n",
       "      <td>64</td>\n",
       "      <td>None</td>\n",
       "      <td>https://www.sudouest.fr/dordogne/thiviers/mars...</td>\n",
       "    </tr>\n",
       "  </tbody>\n",
       "</table>\n",
       "</div>"
      ],
      "text/plain": [
       "                                                text  \\\n",
       "0  L'international de pétanque de Sète, avait lie...   \n",
       "1  Ce contenu est bloqué car vous n'avez pas acce...   \n",
       "2  Le tribunal de commerce de Chambéry va connaît...   \n",
       "3  La 38e campagne d’hiver de l’association comme...   \n",
       "4  Sur le même sujet Dordogne : contre le cancer ...   \n",
       "\n",
       "                                               title                     date  \\\n",
       "0  International de Sète : la pétanque, une affai...  2022-03-07T00:00:00.000   \n",
       "1  Massif des Vosges. La route des Crêtes fermée ...  2023-11-26T00:00:00.000   \n",
       "2  Savoie. Discrimination raciale: quatre chauffe...  2023-09-06T00:00:00.000   \n",
       "3  TÉMOIGNAGE. Les Restos du Coeur recrutent : \"o...  2022-11-09T00:00:00.000   \n",
       "4  Mars bleu, pour favoriser le dépistage du canc...  2022-03-11T00:00:00.000   \n",
       "\n",
       "                                             article  title_char_count  \\\n",
       "0  2047761 at https://france3-regions.francetvinf...                74   \n",
       "1  https://www.vosgesmatin.fr/environnement/2023/...                70   \n",
       "2  https://www.ledauphine.com/faits-divers-justic...               102   \n",
       "3  2651444 at https://france3-regions.francetvinf...                97   \n",
       "4  https://www.sudouest.fr/dordogne/thiviers/mars...                77   \n",
       "\n",
       "   text_char_count  title_word_count  text_word_count  title_repeating_chars  \\\n",
       "0             2397                13              411               0.027027   \n",
       "1              594                13               95               0.014286   \n",
       "2              397                13               64               0.019608   \n",
       "3             4721                17              793               0.030928   \n",
       "4              853                12              131               0.000000   \n",
       "\n",
       "   text_repeating_chars                                        title_alpha  \\\n",
       "0              0.026283  InternationaldeSètelapétanqueuneaffairedefamil...   \n",
       "1              0.026936  MassifdesVosgesLaroutedesCrêtesferméeàpartirdu...   \n",
       "2              0.027708  SavoieDiscriminationracialequatrechauffeurspor...   \n",
       "3              0.026477  TMOIGNAGELesRestosduCoeurrecrutentonestnourrid...   \n",
       "4              0.017585  Marsbleupourfavoriserledépistageducancercolore...   \n",
       "\n",
       "   title_alpha_char_count article_id  \\\n",
       "0                      60    2047761   \n",
       "1                      56       None   \n",
       "2                      88       None   \n",
       "3                      75    2651444   \n",
       "4                      64       None   \n",
       "\n",
       "                                         article_url  \n",
       "0  https://france3-regions.francetvinfo.fr/occitanie  \n",
       "1  https://www.vosgesmatin.fr/environnement/2023/...  \n",
       "2  https://www.ledauphine.com/faits-divers-justic...  \n",
       "3  https://france3-regions.francetvinfo.fr/occita...  \n",
       "4  https://www.sudouest.fr/dordogne/thiviers/mars...  "
      ]
     },
     "execution_count": 19,
     "metadata": {},
     "output_type": "execute_result"
    }
   ],
   "source": [
    "import validators\n",
    "from typing import Tuple, Optional\n",
    "\n",
    "Url = str\n",
    "\n",
    "\n",
    "def extract_id_and_url(article: str) -> Tuple[Optional[str], Optional[Url]]:\n",
    "    if \" at \" in article:\n",
    "        id, url = article.split(\" at \")\n",
    "        assert validators.url(url)\n",
    "        return id, url\n",
    "\n",
    "    url = article.strip(\"tag:\")\n",
    "    if not validators.url(article):\n",
    "        return None, None\n",
    "\n",
    "    return None, url\n",
    "\n",
    "\n",
    "assert extract_id_and_url(\n",
    "    \"2047761 at https://france3-regions.francetvinfo.fr/occitanie\"\n",
    ") == (\"2047761\", \"https://france3-regions.francetvinfo.fr/occitanie\")\n",
    "assert extract_id_and_url(\"https://france3-regions.francetvinfo.fr/occitanie\") == (\n",
    "    None,\n",
    "    \"https://france3-regions.francetvinfo.fr/occitanie\",\n",
    ")\n",
    "\n",
    "df[\"article_id\"], df[\"article_url\"] = zip(*df[\"article\"].apply(extract_id_and_url))\n",
    "\n",
    "df.head()"
   ]
  },
  {
   "cell_type": "code",
   "execution_count": 20,
   "metadata": {},
   "outputs": [
    {
     "data": {
      "text/html": [
       "<div>\n",
       "<style scoped>\n",
       "    .dataframe tbody tr th:only-of-type {\n",
       "        vertical-align: middle;\n",
       "    }\n",
       "\n",
       "    .dataframe tbody tr th {\n",
       "        vertical-align: top;\n",
       "    }\n",
       "\n",
       "    .dataframe thead th {\n",
       "        text-align: right;\n",
       "    }\n",
       "</style>\n",
       "<table border=\"1\" class=\"dataframe\">\n",
       "  <thead>\n",
       "    <tr style=\"text-align: right;\">\n",
       "      <th></th>\n",
       "      <th>text</th>\n",
       "      <th>title</th>\n",
       "      <th>date</th>\n",
       "      <th>article</th>\n",
       "      <th>title_char_count</th>\n",
       "      <th>text_char_count</th>\n",
       "      <th>title_word_count</th>\n",
       "      <th>text_word_count</th>\n",
       "      <th>title_repeating_chars</th>\n",
       "      <th>text_repeating_chars</th>\n",
       "      <th>title_alpha</th>\n",
       "      <th>title_alpha_char_count</th>\n",
       "      <th>article_id</th>\n",
       "      <th>article_url</th>\n",
       "      <th>article_domain</th>\n",
       "    </tr>\n",
       "  </thead>\n",
       "  <tbody>\n",
       "    <tr>\n",
       "      <th>0</th>\n",
       "      <td>L'international de pétanque de Sète, avait lie...</td>\n",
       "      <td>International de Sète : la pétanque, une affai...</td>\n",
       "      <td>2022-03-07T00:00:00.000</td>\n",
       "      <td>2047761 at https://france3-regions.francetvinf...</td>\n",
       "      <td>74</td>\n",
       "      <td>2397</td>\n",
       "      <td>13</td>\n",
       "      <td>411</td>\n",
       "      <td>0.027027</td>\n",
       "      <td>0.026283</td>\n",
       "      <td>InternationaldeSètelapétanqueuneaffairedefamil...</td>\n",
       "      <td>60</td>\n",
       "      <td>2047761</td>\n",
       "      <td>https://france3-regions.francetvinfo.fr/occitanie</td>\n",
       "      <td>france3-regions.francetvinfo.fr</td>\n",
       "    </tr>\n",
       "    <tr>\n",
       "      <th>1</th>\n",
       "      <td>Ce contenu est bloqué car vous n'avez pas acce...</td>\n",
       "      <td>Massif des Vosges. La route des Crêtes fermée ...</td>\n",
       "      <td>2023-11-26T00:00:00.000</td>\n",
       "      <td>https://www.vosgesmatin.fr/environnement/2023/...</td>\n",
       "      <td>70</td>\n",
       "      <td>594</td>\n",
       "      <td>13</td>\n",
       "      <td>95</td>\n",
       "      <td>0.014286</td>\n",
       "      <td>0.026936</td>\n",
       "      <td>MassifdesVosgesLaroutedesCrêtesferméeàpartirdu...</td>\n",
       "      <td>56</td>\n",
       "      <td>None</td>\n",
       "      <td>https://www.vosgesmatin.fr/environnement/2023/...</td>\n",
       "      <td>vosgesmatin.fr</td>\n",
       "    </tr>\n",
       "    <tr>\n",
       "      <th>2</th>\n",
       "      <td>Le tribunal de commerce de Chambéry va connaît...</td>\n",
       "      <td>Savoie. Discrimination raciale: quatre chauffe...</td>\n",
       "      <td>2023-09-06T00:00:00.000</td>\n",
       "      <td>https://www.ledauphine.com/faits-divers-justic...</td>\n",
       "      <td>102</td>\n",
       "      <td>397</td>\n",
       "      <td>13</td>\n",
       "      <td>64</td>\n",
       "      <td>0.019608</td>\n",
       "      <td>0.027708</td>\n",
       "      <td>SavoieDiscriminationracialequatrechauffeurspor...</td>\n",
       "      <td>88</td>\n",
       "      <td>None</td>\n",
       "      <td>https://www.ledauphine.com/faits-divers-justic...</td>\n",
       "      <td>ledauphine.com</td>\n",
       "    </tr>\n",
       "  </tbody>\n",
       "</table>\n",
       "</div>"
      ],
      "text/plain": [
       "                                                text  \\\n",
       "0  L'international de pétanque de Sète, avait lie...   \n",
       "1  Ce contenu est bloqué car vous n'avez pas acce...   \n",
       "2  Le tribunal de commerce de Chambéry va connaît...   \n",
       "\n",
       "                                               title                     date  \\\n",
       "0  International de Sète : la pétanque, une affai...  2022-03-07T00:00:00.000   \n",
       "1  Massif des Vosges. La route des Crêtes fermée ...  2023-11-26T00:00:00.000   \n",
       "2  Savoie. Discrimination raciale: quatre chauffe...  2023-09-06T00:00:00.000   \n",
       "\n",
       "                                             article  title_char_count  \\\n",
       "0  2047761 at https://france3-regions.francetvinf...                74   \n",
       "1  https://www.vosgesmatin.fr/environnement/2023/...                70   \n",
       "2  https://www.ledauphine.com/faits-divers-justic...               102   \n",
       "\n",
       "   text_char_count  title_word_count  text_word_count  title_repeating_chars  \\\n",
       "0             2397                13              411               0.027027   \n",
       "1              594                13               95               0.014286   \n",
       "2              397                13               64               0.019608   \n",
       "\n",
       "   text_repeating_chars                                        title_alpha  \\\n",
       "0              0.026283  InternationaldeSètelapétanqueuneaffairedefamil...   \n",
       "1              0.026936  MassifdesVosgesLaroutedesCrêtesferméeàpartirdu...   \n",
       "2              0.027708  SavoieDiscriminationracialequatrechauffeurspor...   \n",
       "\n",
       "   title_alpha_char_count article_id  \\\n",
       "0                      60    2047761   \n",
       "1                      56       None   \n",
       "2                      88       None   \n",
       "\n",
       "                                         article_url  \\\n",
       "0  https://france3-regions.francetvinfo.fr/occitanie   \n",
       "1  https://www.vosgesmatin.fr/environnement/2023/...   \n",
       "2  https://www.ledauphine.com/faits-divers-justic...   \n",
       "\n",
       "                    article_domain  \n",
       "0  france3-regions.francetvinfo.fr  \n",
       "1                   vosgesmatin.fr  \n",
       "2                   ledauphine.com  "
      ]
     },
     "execution_count": 20,
     "metadata": {},
     "output_type": "execute_result"
    }
   ],
   "source": [
    "### Extract the domain name from the URL\n",
    "\n",
    "from urllib.parse import urlparse\n",
    "\n",
    "\n",
    "def extract_domain(url: Url) -> str:\n",
    "    return urlparse(str(url)).netloc.strip(\".www\")\n",
    "\n",
    "\n",
    "assert (\n",
    "    extract_domain(\"https://france3-regions.francetvinfo.fr/occitanie\")\n",
    "    == \"france3-regions.francetvinfo.fr\"\n",
    ")\n",
    "\n",
    "df[\"article_domain\"] = df[\"article_url\"].apply(extract_domain)\n",
    "df.head(3)"
   ]
  },
  {
   "cell_type": "markdown",
   "metadata": {},
   "source": [
    "# Removing cookies banners, paywalls, and other non-content text\n"
   ]
  },
  {
   "cell_type": "markdown",
   "metadata": {},
   "source": [
    "### \"Pour lire la suite\"\n"
   ]
  },
  {
   "cell_type": "code",
   "execution_count": 37,
   "metadata": {},
   "outputs": [
    {
     "data": {
      "text/plain": [
       "array([', rejoignez notre co', ', abonnez-vous : Déc',\n",
       "       ', abonnez-vous : Dec', ' de cet article et a'], dtype=object)"
      ]
     },
     "execution_count": 37,
     "metadata": {},
     "output_type": "execute_result"
    }
   ],
   "source": [
    "# We want to know what's after \"pour lire la suite\". We will extract the next 20 characters after the match, put them in a set, and display the set.\n",
    "# This will give us an idea of the different ways this sentence is completed.\n",
    "\n",
    "pour_lire_la_suite = df[\"text\"].str.contains(\"pour lire la suite\", case=False)\n",
    "\n",
    "df[pour_lire_la_suite][\"text\"].str.extract(\n",
    "    r\"pour lire la suite(.{20})\", flags=re.IGNORECASE\n",
    ")[0].unique()"
   ]
  },
  {
   "cell_type": "markdown",
   "metadata": {},
   "source": [
    "When \"Pour lire la suite\" appears in the text, it's always followed by\n",
    "\n",
    "- `, rejoignez notre communauté`\n",
    "- `, abonnez-vous`\n",
    "- ` de cet article`\n",
    "\n",
    "So the text \"Pour lire la suite\" is never a part of the article. We can safely characterize them as \"paywall\"\n"
   ]
  },
  {
   "cell_type": "code",
   "execution_count": 38,
   "metadata": {},
   "outputs": [
    {
     "name": "stdout",
     "output_type": "stream",
     "text": [
      "Marked 6058 rows as paywall\n"
     ]
    }
   ],
   "source": [
    "# mark the rows where the text contains \"pour lire la suite\"\n",
    "# For all rows of `pour_lire_la_suite`, mark the \"content_restrictions\" column as \"paywall\"\n",
    "\n",
    "df.loc[pour_lire_la_suite, \"content_restrictions\"] = \"paywall\"\n",
    "\n",
    "print(f\"Marked {pour_lire_la_suite.sum()} rows as paywall\")"
   ]
  },
  {
   "cell_type": "markdown",
   "metadata": {},
   "source": [
    "### Other restrictions\n"
   ]
  },
  {
   "cell_type": "code",
   "execution_count": 39,
   "metadata": {},
   "outputs": [
    {
     "name": "stdout",
     "output_type": "stream",
     "text": [
      "Marked 6328 rows as cookie-wall\n"
     ]
    }
   ],
   "source": [
    "COOKIE_WALL_TRIGGER = [\n",
    "    \"Ce contenu est bloqué car vous n'avez pas accepté les cookies.\",\n",
    "    \"Ce contenu est bloqué car vous n'avez pas accepté les traceurs\",\n",
    "    \"En cliquant sur « J’accepte tous les cookies »\",\n",
    "    \"Deconnectez-vous systematiquement avant de fermer la fenetre du navigateur\",\n",
    "    \"Déconnectez-vous systématiquement avant de fermer la fenêtre du navigateur\",\n",
    "    \"En acceptant les cookies, vous pourrez accéder aux contenus et fonctionnalités gratuites que propose notre site.\",\n",
    "    \"but your activity and behavior on this site made us think that you are a bot\",\n",
    "\"Nous utilisons des cookies ou technologies\",\n",
    "\"Ce contenu est bloque car\",\n",
    "\"Si vous souhaitez modifier vos centres d'intérêt, vous pouvez à tout moment cliquer sur le lien\",\n",
    "]\n",
    "\n",
    "cookies = df[\"text\"].str.contains(\"|\".join(COOKIE_WALL_TRIGGER), case=False)\n",
    "\n",
    "df.loc[cookies, \"content_restrictions\"] = \"cookie-wall\"\n",
    "\n",
    "print(f\"Marked {cookies.sum()} rows as cookie-wall\")"
   ]
  },
  {
   "cell_type": "code",
   "execution_count": 40,
   "metadata": {},
   "outputs": [
    {
     "name": "stdout",
     "output_type": "stream",
     "text": [
      "Marked 841 rows as paywall\n"
     ]
    }
   ],
   "source": [
    "PAYWALL_TRIGGER = [\n",
    "    \"Cet article est réservé aux abonnés.\",\n",
    "    \"Abonnez-vous pour 1€ Accédez en illimité à tous les dossiers\",\n",
    "    \"Abonnez-vous pour 1€\",\n",
    "    \"Réservé aux abonnés\",\n",
    "    \"En cliquant sur « je m’abonne »\",\n",
    "]\n",
    "\n",
    "\n",
    "paywall = df[\"text\"].str.contains(\"|\".join(PAYWALL_TRIGGER), case=False)\n",
    "\n",
    "\n",
    "df.loc[paywall, \"content_restrictions\"] = \"paywall\"\n",
    "\n",
    "print(f\"Marked {paywall.sum()} rows as paywall\")"
   ]
  },
  {
   "cell_type": "code",
   "execution_count": 41,
   "metadata": {},
   "outputs": [],
   "source": [
    "PODCAST_TRIGGER = [\n",
    "    \"Écoutez cet épisode et abonnez-vous\",\n",
    "    \"Ecoutez cet épisode et abonnez-vous\",\n",
    "    \"sur votre plateforme audio favorite\",\n",
    "]\n",
    "\n",
    "podcast = df[\"text\"].str.contains(\"|\".join(PODCAST_TRIGGER), case=False)\n",
    "\n",
    "df.loc[podcast, \"content_restrictions\"] = \"podcast\""
   ]
  },
  {
   "cell_type": "code",
   "execution_count": 42,
   "metadata": {},
   "outputs": [
    {
     "name": "stdout",
     "output_type": "stream",
     "text": [
      "Marked 595 rows as newsletter\n"
     ]
    }
   ],
   "source": [
    "NEWSLETTER_TRIGGER = [\n",
    "    \"Nos journalistes sélectionnent pour vous les articles essentiels de votre secteur\",\n",
    "    \"Votre adresse email n'est pas valide\",\n",
    "    \"S'abonner à la newsletter\\n\\nS'abonner à la newsletter\",\n",
    "]\n",
    "\n",
    "newsletter = df[\"text\"].str.contains(\"|\".join(NEWSLETTER_TRIGGER), case=False)\n",
    "\n",
    "df.loc[newsletter, \"content_restrictions\"] = \"newsletter\"\n",
    "\n",
    "print(f\"Marked {newsletter.sum()} rows as newsletter\")"
   ]
  },
  {
   "cell_type": "markdown",
   "metadata": {},
   "source": [
    "What is missing ?\n"
   ]
  },
  {
   "cell_type": "code",
   "execution_count": 43,
   "metadata": {},
   "outputs": [],
   "source": [
    "not_restricted = df[df[\"content_restrictions\"].isnull()]\n",
    "\n",
    "\n",
    "TRIGGER_WORDS = [\n",
    "    \"cookie\",\n",
    "    \"abonnez-vous\",\n",
    "    \"inscrivez-vous\",\n",
    "    \"connectez-vous\",\n",
    "    \"et accédez à l'intégralité de nos articles sur le site et l'application mobile\",\n",
    "    \"Je découvre\",\n",
    "    \"à partir de 1 € le 1er mois\",\n",
    "    \"sans engagement de durée\",\n",
    "    \"ce contenu est bloqué\",\n",
    "    \"réservé aux abonnés\",\n",
    "    \"vous n'avez pas accepté les cookies et autres traceurs\"\n",
    "    \"En cliquant sur « J\"\n",
    "    \"à 1€\",\n",
    "]\n",
    "\n",
    "# Let's find rows having the trigger words in the text, in the rest df\n",
    "trigger_words = not_restricted[\"text\"].str.contains(\"|\".join(TRIGGER_WORDS), case=False)"
   ]
  },
  {
   "cell_type": "code",
   "execution_count": 44,
   "metadata": {},
   "outputs": [
    {
     "name": "stdout",
     "output_type": "stream",
     "text": [
      "\n",
      "\n",
      "on magasin éphémère Cookie Way permettant de personnaliser ses biscuits, peut être en imaginant des cookies bars dans des restaurants. De quoi s'atteler à de nouveaux moments de consommation.\n",
      "\n",
      "ensable tenue aux couleurs rouge et blanc, typique de la fête de Dax.  Pour suivre leurs aventures, connectez-vous sur Facebook à l’adresse suivante : https :// www.facebook.com/daxroadtrip/\n",
      "\n",
      " houmous de petits pois, omelettes aux fruits, taboulés divers et variés, wrap de lentilles corail, cookies à l’avoine et à la banane…  Sur le même sujet Pour fêter les 85 ans de Maïté, l’association \n",
      "\n",
      "otamment à Jarnac et Châteauneuf.  Par ailleurs, des ateliers collectifs sur des thèmes précis (les cookies par exemple) continuent à être proposés. Des ateliers de découverte du numérique sont égalem\n",
      "\n",
      ", j'ai dû passer mon TOEIC, afin de certifier mon niveau d'anglais. Résultat insuffisant, 7/20 !\"  \"Je découvre alors sur internet qu'il existe des championnats du monde de mémorisation et des méthode\n",
      "\n",
      " compte Instagram sur lequel elle partage, depuis septembre, des clichés et des vidéos de délicieux cookies faits maison. « Mi-cuits »...\n",
      "\n",
      "nveillance et le partage.\" À l'ardoise, on retrouve des gâteaux facilement transportables comme les cookies, banana et carrot cakes. À midi, il y a toujours une tarte ou un cake salé, une salade et un\n",
      "\n",
      "eractive. A tout juste 30 ans, elle est à la tête de quatre boutiques spécialisées dans la vente de cookies, qui emploie 15 salariés et génère un chiffre d'affaires de 700.000 euros. Son entreprise, e\n",
      "\n",
      "a monitrice. Cette même mention, Yannick la donnerait volontiers pour l’ensemble des prestations. « Je découvre depuis seulement quelques jours. Tout est très bien, l’accueil, le choix, la variété. Av\n",
      "\n",
      " cette épreuve sportive et solidaire. « Cette action s’inscrit dans le parcours citoyen des élèves, inscrivez-vous au Club ! », dit la documentaliste du collège qui coordonne ce projet. Une délégation\n",
      "\n",
      "ont spécialisés dans le vol d’identifiants (mots de passe…), de portefeuilles de cryptomonnaies, de cookies de sessions et autres données stockées notamment dans les navigateurs Internet\" précise le g\n",
      "\n",
      "ent, alors que la société doit à tout prix réinventer son modèle et faire face à la disparition des cookies. Ces petits fichiers cachés, stockés dans les pages Web, dont Criteo se sert pour cibler les\n",
      "\n",
      "amné en janvier 2022 Facebook à une amende de 60 millions d’euros pour ses pratiques en matière de \"cookies\", ces traceurs numériques utilisés pour mieux cibler la publicité.  Après avoir été critiqué\n",
      "\n",
      "un tarif quasiment identique à celui de l’Iridium qui représente 99 % des ventes.\"  Des abonnements sans engagement de durée  Depuis quelques années, le système Iridium peut être utilisé avec un smart\n",
      "\n",
      "a route avec Hanane Maskali. Elle est médiatrice numérique, un poste de deux ans créé par l’Etat. « Je découvre le public des gens du voyage », confie-t-elle, « j’ai cette volonté d’aller vers l’autre\n",
      "\n",
      "dolescentes qui incarnent parfaitement l'amitié au féminin. • © Gaëlle Malendrone  La quintessence  Je découvre ces jeunes filles. Elles sont belles et lisent Sagan, Duras ou \"Just kids\" de Patti Smit\n",
      "\n",
      "est libre et gratuit. En cas de mauvais temps, les ludO’Plein Air ne pourront pas être maintenues : abonnez-vous à notre compte Facebook et/ou Instagram pour être tenu informé !  Si vous souhaitez emp\n",
      "\n",
      "arche juste pour le spectacle, ça ne marche pas pour les chronos. Mais je n’en étais pas conscient. Je découvre tout ça 50 ans après. Ce sont les réseaux sociaux qui me racontent ma propre vie.  Vous \n",
      "\n",
      "ous acceptez \n",
      "\n",
      "l’entrée de chaque site que l’on visite. Celles qui demandent si oui ou non, on accepte les fameux \"cookies\", ces mouchards qui retracent notre parcours en ligne et nous ciblent commercialement. Un fo\n",
      "\n",
      "pt préparations à gâteaux : sablés, gaufres de Bruxelles, fondant au chocolat, muffins au chocolat, cookies aux pépites de chocolat au lait et de chocolat noir, cookies au praliné rose et chocolat bla\n",
      "\n",
      " Lacoux, utilisé parfois au poste en réserve puis en pro par Paulo Sousa, qui a terminé le poste. « Je découvre encore Tom car il était blessé lorsque j’ai pris mes fonctions. C’est pour cela que mes \n",
      "\n",
      "s qu’auparavant. Autre illustration : depuis que les internautes ont le choix d’accepter ou non les cookies (traceurs) sur le web, le nombre de refus a explosé. Les internautes prennent clairement con\n",
      "\n",
      "!\", sourit, la jeune femme à l’accueil tout en générosité. Une aventure liée à sa \"passion pour les cookies. J’ai grandi dans une famille qui aime la bonne cuisine. Mon grand-père, René Nicouleau, a é\n",
      "\n",
      "usée Soulages.  Choisissez avec quels membres de votre famille vous souhaitez découvrir ce musée et inscrivez-vous. Ensemble, venez regarder et expérimenter les œuvres du célèbre artiste de l’Outrenoi\n",
      "\n",
      "ezzés (4,90 €).﻿ « On propose aussi des pâtisseries libanaises aux amandes et aux pistaches, et des cookies faits maison. »  S’il mise principalement sur de la vente à emporter (avec seulement une diz\n",
      "\n",
      " dans l’organisation de ces deux journées, ajoute : « Venez nous voir, participez à nos animations, inscrivez-vous à la soirée tartiflette, venez danser et chanter avec nous ».\n",
      "\n",
      "e celui au fromage de chèvre, épinards et miel, un clafoutis pomme gingembre de ma fabrication, des cookies… Mais certains viennent spécialement se fournir en épices, celles du marché des épices de Sa\n",
      "\n",
      "nt lui offrent un avantage concurrentiel technologique face à la concurrence, l’insensibilisant aux cookies tiers, en voie de disparition. Le gain du contrat de McDonald’s, pourtant client historique \n",
      "\n",
      "ime davantage depuis que je suis devenu professeur aux Beaux-Arts [de Paris, NDLR], il y a six ans. Je découvre un nouveau regard par les étudiants, je vois comme c’est important pour eux.  “La Synago\n",
      "\n",
      "urs un chant pour saluer leur œuvre de mémoire et leur apporter quelques encouragements. Chanteurs, inscrivez-vous. !  4 - Avec Enedis, la ligne est bien coupée  Rien à voir avec Bazar. Mais les relat\n",
      "\n",
      "nt publié une étude sur le sujet intitulée « On Oreology, the fracture and flow of 'milk's favorite cookie' » dans une édition spéciale de la revue Physics of Fluid.  Des tests oreolés de succès  Alor\n",
      "\n",
      "s aucun compromis sur la gourmandise. Caroline Lesguillons régale ses abonnés avec cette recette de cookies. • © Caroline Lesguillons  Ses préparations sucrées font d'ailleurs le bonheur de son public\n",
      "\n",
      "cave Terroirs en Garrigues qui avait préparé ses meilleurs crus de Coteaux de Béziers, magnifiés de cookies.\n",
      "\n",
      "voqués : ateliers intergénérationnels avec café popote à développer, divers ateliers (informatique, cookies), un plus grand partenariat avec les Ateliers du temps libre, un vide-greniers.\n",
      "\n",
      "ns et les Hongkongais.\" Un goûter était servi aux jeunes artistes accompagnés de leurs parents, des cookies savoureux de la cuisine centrale.  Laurent le bibliothécaire a déjà constaté l’engouement po\n",
      "\n",
      "réalisée par l’OCDE en 2018, une longue kyrielle de données, recueillies par inférence à l’aide de \"cookies\" ou autres traceurs numériques, permettent de dresser le portrait robot de l’acheteur idéal.\n",
      "\n",
      "re le géant américain de l'informatique Microsoft pour n'avoir pas permis de refuser simplement les cookies sur son moteur de recherche Bing.  C'est la plus importante amende prononcée en 2022 par l'a\n",
      "\n",
      "utes indiquent utiliser des outils dédiés à la protection de leurs données (tels que le blocage des cookies) et 65% d’entre eux ont indiqué ne jamais avoir renoncé (ou rarement) à un service numérique\n",
      "\n",
      " au lait, les CP CE1 les minestrones, quant aux plus grands ils se sont occupé de la confection des cookies. Cette journée était une première pour la dynamique APE qui prépare déjà d’autres évènements\n",
      "\n",
      "ensable tenue aux couleurs rouge et blanc, typique de la fête de Dax.  Pour suivre leurs aventures, connectez-vous sur Facebook à l'adresse suivante ici\n",
      "\n",
      "rêter là.  Artiste à la Comédie Française  Parmi les enjeux cruciaux ? La préparation du monde sans cookie, Google ayant annoncé ne plus recourir à cette technologie de ciblage à compter de 2023. Mais\n",
      "\n",
      "ibre\" où des parfums (vanille, café, chocolat) sont associés à des sauces et des topings (noisette, cookies, caramel etc), la réédition de la boutique éphémère à la Cité de Carcassonne.\n",
      "\n",
      " le principal fabricant français, trouve-t-on des puffs hypercolorés au goût pop corn, marshmallow, cookies ou encore litchi glacé. France Vapotage, dénonce ce marketing. \"Orienter un produit à destin\n",
      "\n",
      "uros dont \"7 milliards financés par les énergéticiens\". \"Je dis aux artisans et aux entrepreneurs : inscrivez-vous sur impots.gouv.fr avec deux factures et un RIB et demandez de l'argent !, enjoint Ol\n",
      "\n",
      "s et chocolats. Et depuis quelques jours, ils proposent aussi des cafés frappés aromatisés vanille, cookie, caramel ou spéculos.  \"On savait que les gens d’ici apprécieraient ce genre de commerce et p\n",
      "\n",
      "endant 6 ans directeur adjoint en charge du numérique en région parisienne.  Au contact des élus  « Je découvre ce nouveau territoire avec beaucoup d’envie, cela était une véritable volonté de ma part\n",
      "\n",
      "ments de tendances du secteur, alors que Google cherche à supprimer progressivement le recours aux \"cookies\", qui suivent les habitudes en ligne des utilisateurs.  \"Parce que la disparition à venir de\n",
      "\n",
      "ionnel départemental d’incendie et de secours (Codis) pour les couloirs de la caserne de Trévoux. « Je découvre ce nouveau métier de cheffe de centre, c’est passionnant d’apprendre des nouvelles chose\n",
      "\n",
      "et mérite un zeste de renouveau, « comme l'ont fait Michel & Augustin en rendant très fun un simple cookie », glisse cette ancienne de l'incubateur Village by CA. Les investisseurs la suivent pour i-l\n",
      "\n",
      "ente l'actrice. \"Je connais bien le sud mais pas du tout Sète, et je dois dire que c'est très joli. Je découvre des coins vraiment mignons\", ajoute Florent Peyre.  Le synopsis  À propos du scenario, A\n",
      "\n",
      " Puis, à la cinquantaine, elle fait la connaissance de Jenny Locatelli, psychanalyste intégrative. \"Je découvre une personne qui n’éprouve pas de pitié à l’écoute de mon histoire mais une réelle empat\n",
      "\n",
      " des pâtisseries de la région paloise, Marine lance donc son entreprise autour d’un concept de gros cookies fourrés faits maison, mettant chacun à l’honneur une confiserie industrielle. Elle détaille \n",
      "\n",
      " fonctionne grâce aux mollets des parents.  Se rafraîchir et reprendre des forces bien sûr avec des cookies, des crêpes, de la barbe à papa et un îlot bienveillant où s’accouder entre les spectacles. \n",
      "\n",
      " 1 rue de Sèze, Lyon 6e. Tarif : de 5 € à 5,70 €. www.marillerlessaveurs.com/  01 / 02 02 / 02  Les cookies à l’américaine d’Amandine Gilliot Amandine Gilliot confectionne des cookies comme ceux que l\n",
      "\n",
      "e chaussure droite, pointure 42, notez-le bien », souligne Jérémy. Les ingrédients d’une recette de cookies listés plus tard, il est temps pour le groupe de prendre congé, verre de bière à la main. La\n",
      "\n",
      "uméro de la ligne indiquée ni virer de l’argent. Si vous avez un doute concernant un mail de Engie, connectez-vous à votre espace personnel et vérifiez si vous avez une facture en attente ou si vous a\n",
      "\n",
      "o du mois de mars. Retrouvons nous mercredi 1er mars à 14 heures.  Pour nous rejoindre le 1er mars, inscrivez-vous gratuitement ici\n",
      "\n",
      "gue de 62 ans.  Pour étudier les fractions, on aborde ici la construction de Lego ou une recette de cookies. Concret.  - Autosuffisance -  Des enfants dans une classe de la Green School South Africa, \n",
      "\n",
      "’ils ne partagent pas la même adresse IP. « Depuis le lieu où vous regardez principalement Netflix, connectez-vous à Internet et ouvrez l’application Netflix sur votre (vos) appareil (s) mobile (s) un\n",
      "\n",
      "r du sein, quiz, défis sportifs, concours de photos ou de pompes pour les plus aguerris ! Ventes de cookies et de grenadine ont permis de récolter des fonds. « Ce que j’ai trouvé intéressant, c’est qu\n",
      "\n",
      "p au Vigan, le problème des remontées de sel en Camargue…  \"Les réunions se sont très bien passées. Je découvre énormément de choses ! Tout est intéressant \", s’enthousiasme la jeune présidente qui se\n",
      "\n",
      "ans un cadre naturel privilégié.  Pour visualiser le reportage réalisé par la chaîne Via Occitanie, connectez-vous sur viaoccitanie.tv/barometre-des-villes-cyclables-le-barcares-bonne-eleve-perpignan-\n",
      "\n",
      " vente de produits nouveaux aux dénominations évocatrices : diamant à la châtaigne, cœur de figues, cookies chocolat et caramel…  Plus d’espace et mieux équipés  Leur arrivée à Bessèges ce mois d’octo\n",
      "\n",
      " de l’emploi féminin à la station d’épuration Suez. Les métiers techniques vous intéressent ? Alors inscrivez-vous dès maintenant afin de participer à la Femina week Suez Occitanie ! Ouverte à toutes \n",
      "\n",
      "ncé mardi le dépôt de 226 nouvelles plaintes contre des sites internet en Europe aux règles sur les cookies jugées \"trompeuses\", un an après une action similaire.  \"Aujourd'hui, Noyb a déposé 226 plai\n",
      "\n",
      "e… Et puis je me suis à nouveau embêté à l’enlever. Maintenant je m’écoute et je fais différemment. Je découvre encore, j’apprends tous les jours. » Et Céline d’appuyer : « Pas un jour ne se ressemble\n",
      "\n",
      " pourquoi pas déjà, des collaborations actées. Pour venir nous rendre visite, en tant qu’invité(e), inscrivez-vous auprès d’Aurore Bachet-Martin Présidente au 06 82 67 92 70 ou par messages sur nos pa\n",
      "\n"
     ]
    }
   ],
   "source": [
    "# For each row in rest[trigger_words], print the part of the text containing the trigger word, with 50 characters before and after\n",
    "\n",
    "parts = set()\n",
    "\n",
    "for text in not_restricted[trigger_words][\"text\"]:\n",
    "    for word in TRIGGER_WORDS:\n",
    "        if word in text:\n",
    "            start = text.index(word)\n",
    "            parts.add(text[start - 100 : start + 100].replace(\"\\n\", \" \"))\n",
    "\n",
    "for part in parts:\n",
    "    print(part)\n",
    "    print()"
   ]
  },
  {
   "cell_type": "markdown",
   "metadata": {},
   "source": [
    "Example of false positives:\n",
    "\n",
    "- `le jour du lancement d'un nouveau format de tweet réservé aux abonnés à Twitter Blue`\n",
    "- `pote à développer, divers ateliers (informatique, cookies), un plus grand partenariat avec les Ateli`\n",
    "- `\"Je dis aux artisans et aux entrepreneurs : inscrivez-vous sur impots.gouv.fr`\n"
   ]
  },
  {
   "cell_type": "markdown",
   "metadata": {},
   "source": [
    "### Summary"
   ]
  },
  {
   "cell_type": "code",
   "execution_count": 45,
   "metadata": {},
   "outputs": [
    {
     "data": {
      "text/plain": [
       "content_restrictions\n",
       "NaN            86123\n",
       "paywall         6899\n",
       "cookie-wall     6328\n",
       "newsletter       595\n",
       "podcast           17\n",
       "Name: count, dtype: int64"
      ]
     },
     "execution_count": 45,
     "metadata": {},
     "output_type": "execute_result"
    }
   ],
   "source": [
    "df['content_restrictions'].value_counts(dropna=False)"
   ]
  },
  {
   "cell_type": "code",
   "execution_count": 49,
   "metadata": {},
   "outputs": [
    {
     "name": "stdout",
     "output_type": "stream",
     "text": [
      "There are still 86123 rows without content restrictions\n"
     ]
    }
   ],
   "source": [
    "print(f'There are still {df[\"content_restrictions\"].isnull().sum()} rows without content restrictions')"
   ]
  },
  {
   "cell_type": "markdown",
   "metadata": {},
   "source": [
    "# Duplicates\n",
    "\n",
    "Are there any duplicates in the data? If so, how many?\n"
   ]
  },
  {
   "cell_type": "code",
   "execution_count": 50,
   "metadata": {},
   "outputs": [
    {
     "data": {
      "text/plain": [
       "99962"
      ]
     },
     "execution_count": 50,
     "metadata": {},
     "output_type": "execute_result"
    }
   ],
   "source": [
    "# Drop duplicate rows :\n",
    "df.drop_duplicates(inplace=True)\n",
    "len(df)"
   ]
  },
  {
   "cell_type": "markdown",
   "metadata": {},
   "source": [
    "Each row is unique. But there can be multiple articles with the same title for instance.\n"
   ]
  },
  {
   "cell_type": "markdown",
   "metadata": {},
   "source": [
    "### Title\n"
   ]
  },
  {
   "cell_type": "code",
   "execution_count": 51,
   "metadata": {},
   "outputs": [
    {
     "data": {
      "text/plain": [
       "title\n",
       "Vosges. Notre édition numérique est en ligne                                40\n",
       "Montagne. $content.Title                                                    38\n",
       "SAVOIE. État civil                                                          10\n",
       "Vos rendez-vous culturels : où sortir à Sète et sur le bassin de Thau        8\n",
       "Le sociorama de la semaine                                                   8\n",
       "                                                                            ..\n",
       "En Allemagne, la laborieuse réouverture des centrales à charbon              2\n",
       "Cadeaux et bons d'achat offerts aux salariés : les limites 2023              2\n",
       "association. Un marché de Noël à l’africaine                                 2\n",
       "Russie. L'insolente vigueur du rouble malgré la pluie de sanctions           2\n",
       "Cette semaine dans les assiettes des écoliers bagnolais et spiripontains     2\n",
       "Name: count, Length: 716, dtype: int64"
      ]
     },
     "execution_count": 51,
     "metadata": {},
     "output_type": "execute_result"
    }
   ],
   "source": [
    "title_counts = df[\"title\"].value_counts()\n",
    "title_counts[title_counts > 1]"
   ]
  },
  {
   "cell_type": "markdown",
   "metadata": {},
   "source": [
    "Delete duplicates based on the title\n"
   ]
  },
  {
   "cell_type": "code",
   "execution_count": 52,
   "metadata": {},
   "outputs": [],
   "source": [
    "df = df.drop_duplicates(subset=\"title\")"
   ]
  },
  {
   "cell_type": "markdown",
   "metadata": {},
   "source": [
    "### Text\n"
   ]
  },
  {
   "cell_type": "code",
   "execution_count": 56,
   "metadata": {},
   "outputs": [
    {
     "data": {
      "text/plain": [
       "text\n",
       "                                                                                                                                                                                                                                                                                                                                                                                                                                                                                                                                                                                                                                                                                                                                                                                                                                                                                                                                                                                                                                                                                                                                                                                                                                                                                                                                                                                                                                                                                                                                                                                                                                                                                                                                                                                                                                                                                                                                                                                                                                                                                                                                                                                                                                                             527\n",
       "PLONGEZ AU COEUR DE NOS ARCHIVES\\n\\nRetrouvez toutes les actualités qui ont marqué la mémoire collective de la région depuis 75 ans .\\n\\nAccéder au moteur de recherche des Archives Sud Ouest                                                                                                                                                                                                                                                                                                                                                                                                                                                                                                                                                                                                                                                                                                                                                                                                                                                                                                                                                                                                                                                                                                                                                                                                                                                                                                                                                                                                                                                                                                                                                                                                                                                                                                                                                                                                                                                                                                                                                                                                                                                                19\n",
       "Vous avez envie de nous faire partager les beaux paysages situés près de chez vous sur fond météo, alors tous à vos appareils photos ou smartphones ! Couchers de soleil, paysages de neige, d’automne, d’hiver, de printemps ou d’été, arc-en-ciel, mers de nuages, massifs, reliefs, fleuves, rivières ou torrents sur fond de brume : laissez libre cours à votre imagination et envoyez-nous vos photos (libres de droit) par mail à cette adresse : ldlphotometeo@ledauphine.com. Nous ne publierons que les photos prises ce jour. Pour chaque photo merci d’indiquer votre nom, le lieu de la prise de vue (commune + département) et la date du cliché.                                                                                                                                                                                                                                                                                                                                                                                                                                                                                                                                                                                                                                                                                                                                                                                                                                                                                                                                                                                                                                                                                                                                                                                                                                                                                                                                                                                                                                                                                                                                                                                               18\n",
       "Il est de retour. Le loup, ce grand mal-aimé, a fait sa réapparition dans le Rhône en 2021, après plus d'un siècle d'absence due à son extermination par l'homme. Depuis, chaque année, le loup revient dans l'actualité, avec son lot de troupeaux attaqués. L'occasion pour nous de revenir sur quelques histoires qui concerne le canidé dans notre département, depuis la Bête du Lyonnais qui terrorisa les monts du Lyonnais, en passant par un étrange loup isérois, jusqu'à réaliser un bilan sur la situation actuelle de l'animal dans le Rhône.                                                                                                                                                                                                                                                                                                                                                                                                                                                                                                                                                                                                                                                                                                                                                                                                                                                                                                                                                                                                                                                                                                                                                                                                                                                                                                                                                                                                                                                                                                                                                                                                                                                                                                    16\n",
       "Nouvelle mauvaise passe pour l'euro. La monnaie s'est enfoncée ce lundi sous le seuil de la parité avec le dollar. Alors que le billet vert a profité des tours de vis successifs de la Réserve fédérale américaine (Fed), l'euro a perdu 0,96% vers 17h30 à 0,9941 dollar, un plus bas depuis sa mise en circulation en 2002. Mi-juillet, la devise était déjà passée sous le seuil symbolique d'un dollar.\\n\\nL'euro est en effet plombé par la crise énergétique. La vigueur du dollar rend les importations plus coûteuses, notamment pour les matières premières comme le pétrole dont le cours est fixé en dollars, accentuant une inflation déjà dévastatrice pour les consommateurs et les entreprises. « L'Europe se prépare à une nouvelle fermeture du gazoduc Nord Stream 1 plus tard dans le mois », rappelle à l'AFP Craig Erlam, analyste chez Oanda. Le géant gazier Gazprom a averti que les livraisons de gaz seraient interrompues pour « maintenance » du 31 août au 2 septembre, au risque de raviver la peur d'une pénurie en Europe, où la Russie est accusée de chantage énergétique.\\n\\nRésultat, le cours du gaz européen (contrat à terme du TTF néerlandais) est reparti en flèche et a atteint ce lundi 295 euros le mégawattheure (MWh), s'approchant des records historiques atteints dans les premiers jours de l'invasion de l'Ukraine par la Russie. « L'épée de Damoclès suspendue au dessus de l'Europe est partie pour rester là », prévient Kit Juckes, analyste chez Société Générale. Et la semaine pourrait être douloureuse pour l'euro. Pour l'instant, en 2022, la devise s'était ressaisie après avoir flirté avec le seuil de la parité, mais « de mauvais indicateurs PMI mardi pourraient suffire à ancrer l'euro sous un dollar », prévient-il.\\n\\nLa livre à son plus bas depuis 2020\\n\\nCar de l'autre côté de l'Atlantique, malgré un léger affaiblissement de l'inflation américaine en juillet, la Réserve fédérale américaine (Fed) assure qu'elle va continuer de resserrer sa politique monétaire. Alors que l'économie américaine est moins affectée que l'Europe par la guerre en Ukraine, la Fed a en effet plus de marge de manœuvre pour agir que les banques centrales du Vieux Continent.      5\n",
       "                                                                                                                                                                                                                                                                                                                                                                                                                                                                                                                                                                                                                                                                                                                                                                                                                                                                                                                                                                                                                                                                                                                                                                                                                                                                                                                                                                                                                                                                                                                                                                                                                                                                                                                                                                                                                                                                                                                                                                                                                                                                                                                                                                                                                                                            ... \n",
       "Sur le site internet de Schmidt Groupe, fabricant de meubles qui emploie 1500 personnes sur ses sites de Sélestat et Lièpvre, impossible de louper l’info, qui est en page d’accueil : Anne Leitzgen, présidente de Schmidt Groupe, a été désignée début mai manager de l’année par le journal La Tribune , lors d’un événement qui récompense les entreprises qui font la différence dans le Grand Est.\\n\\nSi elle se dit toujours gênée par ce type de récompense individuelle, elle y voit néanmoins « une reconnaissance pour l’entreprise ». Elle enchaîne : « On réfléchit beaucoup à notre mode de management. On peut être dans l’industrie tout en dirigeant avec bienveillance, confiance. »\\n\\nLe...                                                                                                                                                                                                                                                                                                                                                                                                                                                                                                                                                                                                                                                                                                                                                                                                                                                                                                                                                                                                                                                                                                                                                                                                                                                                                                                                                                                                                                                                                                                                                2\n",
       "Dans ce restaurant messin, Catherine Massoudi et Behzad préparent avec entrain et espoir leur prochaine manifestation, après celles organisées à Metz depuis quinze jours. Ce coup-ci, il s’agit d’affréter des autocars : « Tous les Iraniens d’Europe et leurs soutiens ont rendez-vous à Berlin le 22 octobre à 15 h, parce que les Allemands ont beaucoup de contrats avec les mollahs. Les communiqués de condamnation, cela va cinq minutes, mais il faut enlever les cotons des oreilles des dirigeants européens. On se doit d’être les voix de nos proches qui se soulèvent là-bas. »\\n\\nLa première, 66 ans, a pratiquement le double de...                                                                                                                                                                                                                                                                                                                                                                                                                                                                                                                                                                                                                                                                                                                                                                                                                                                                                                                                                                                                                                                                                                                                                                                                                                                                                                                                                                                                                                                                                                                                                                                                          2\n",
       "La crise que traversent les grandes enseignes de l’habillement s’accélère ces derniers mois : faillite de Camaïeu, placement en redressement judiciaire de Go Sport et de Kookaï, les magasins Pimkie à vendre... Gildas Minvielle, directeur de l’observatoire économique de l’Institut français de la mode, revient pour nous sur le contexte de la mode.\\n\\nComment expliquer les difficultés que rencontrent de nombreuses enseignes de prêt-à-porter ?\\n\\nEn 2019, le marché de l’habillement en France était déjà dans une situation fragilisée. Et puis il y a eu la crise sanitaire. Le marché a plongé de 15 % en 2020. Il y a eu un...                                                                                                                                                                                                                                                                                                                                                                                                                                                                                                                                                                                                                                                                                                                                                                                                                                                                                                                                                                                                                                                                                                                                                                                                                                                                                                                                                                                                                                                                                                                                                                                                               2\n",
       "La ministre déléguée notamment au Commerce Olivia Grégoire a annoncé ce vendredi que la Répression des fraudes (DGCCRF) va désormais pouvoir dévoiler l'identité d'entreprises sanctionnées pour toute pratique illicite.\\n\\nLa DGCCRF pouvait déjà rendre publique l'identité d'entreprises sanctionnées s'agissant de sanctions administratives. Mais un décret publié ce vendredi, pris en application de la loi du 16 août 2022 portant mesures d'urgence pour la protection du pouvoir d'achat, a permis d'étendre les possibilités de communication de la DGCCRF, notamment pour ce qui consiste ses « mesures d'injonction ». Ces injonctions à modifier une pratique illicite, infraction à la réglementation ou clause commerciale illégale, doivent permettre de mettre fin à la pratique « dans un délai court ». « Elles sont complémentaires à des sanctions financières, voire à des peines d'emprisonnement », précise la DGCCRF.\\n\\n« Name and shame »\\n\\nLa Répression des fraudes pourra désormais rendre publiques ses injonctions aux entreprises sur l'ensemble de son champ d'action, lutte contre les pratiques restrictives de concurrence ou protection des consommateurs par exemple.\\n\\nCe, dans une logique de « name and shame », consistant à pointer du doigt publiquement des entreprises très sensibles à leur image, « afin de renforcer le caractère dissuasif des suites qu'elle met en œuvre à la suite de ses contrôles ». « Dans le cas de ses pouvoirs de 'réquisition numérique' », précise-t-elle en outre, elle « pourra ordonner le renvoi des sites frauduleux bloqués vers une page informant les consommateurs du motif du blocage ».                                                                                                                                                                                                                                                                                                                                                                                                                                                                                                                                                                           2\n",
       "Le constructeur automobile allemand Mercedes-Benz est en train de rappeler près d'un million de véhicules en raison d'un potentiel problème dans le système de freins, a annoncé samedi l'Autorité fédérale des transports (KBA).\\n\\n« Une corrosion du servo-frein peut, dans le pire des cas, provoquer une coupure de la connexion entre la pédale de frein et le système de freinage », a souligné la KBA. « Le frein de service peut dans ce cas s'arrêter de fonctionner », a-t-elle ajouté. Le Servo-frein est un dispositif installé dans un circuit de freinage hydraulique qui augmente la force appliquée sur le maître-cylindre.\\n\\nIl s'agit de modèles datant des années 2004 à 2015 de la série SUV ML et GL, ainsi que le minivan de luxe Classe R, selon un communiqué publié samedi soir dans la presse.\\n\\nAu total 993 407 véhicules sont rappelés à travers le monde, dont 70 000 en Allemagne, selon la KBA. Joint par l'AFP Mercedes-Benz n'avait pas réagi dans l'immédiat.                                                                                                                                                                                                                                                                                                                                                                                                                                                                                                                                                                                                                                                                                                                                                                                                                                                                                                                                                                                                                                                                                                                                                                                                                                                            2\n",
       "Name: count, Length: 533, dtype: int64"
      ]
     },
     "execution_count": 56,
     "metadata": {},
     "output_type": "execute_result"
    }
   ],
   "source": [
    "# show what texts are duplicated, and the number of times they are duplicated\n",
    "\n",
    "text_counts = not_restricted[\"text\"].value_counts()\n",
    "text_counts[text_counts >= 2]"
   ]
  },
  {
   "cell_type": "markdown",
   "metadata": {},
   "source": [
    "Since there are not a lot of duplicates, we can remove all rows having duplicate texts."
   ]
  },
  {
   "cell_type": "code",
   "execution_count": 57,
   "metadata": {},
   "outputs": [
    {
     "name": "stdout",
     "output_type": "stream",
     "text": [
      "Removed 12799 rows in the whole dataset\n"
     ]
    }
   ],
   "source": [
    "# Since there are not a lot of duplicates, we can remove all rows having duplicate texts.\n",
    "\n",
    "before_len = len(df)\n",
    "\n",
    "df = df.drop_duplicates(subset=\"text\")\n",
    "\n",
    "after_len = len(df)\n",
    "\n",
    "print(f\"Removed {before_len - after_len} rows in the whole dataset\")"
   ]
  },
  {
   "cell_type": "markdown",
   "metadata": {},
   "source": [
    "# Look at short texts\n",
    "\n",
    "Check which texts are shorter than their titles"
   ]
  },
  {
   "cell_type": "code",
   "execution_count": 67,
   "metadata": {},
   "outputs": [],
   "source": [
    "# mark text_restrictions as 'too_short' for rows where the text is shorter than the title\n",
    "df.loc[df[\"text\"].str.len() < df[\"title\"].str.len(), \"content_restrictions\"] = \"too_short\""
   ]
  },
  {
   "cell_type": "code",
   "execution_count": 68,
   "metadata": {},
   "outputs": [
    {
     "data": {
      "text/html": [
       "<div>\n",
       "<style scoped>\n",
       "    .dataframe tbody tr th:only-of-type {\n",
       "        vertical-align: middle;\n",
       "    }\n",
       "\n",
       "    .dataframe tbody tr th {\n",
       "        vertical-align: top;\n",
       "    }\n",
       "\n",
       "    .dataframe thead th {\n",
       "        text-align: right;\n",
       "    }\n",
       "</style>\n",
       "<table border=\"1\" class=\"dataframe\">\n",
       "  <thead>\n",
       "    <tr style=\"text-align: right;\">\n",
       "      <th></th>\n",
       "      <th>title</th>\n",
       "      <th>text</th>\n",
       "      <th>content_restrictions</th>\n",
       "    </tr>\n",
       "  </thead>\n",
       "  <tbody>\n",
       "    <tr>\n",
       "      <th>94</th>\n",
       "      <td>Maizilly. La brasserie ouvre ses portes dimanche</td>\n",
       "      <td>Maizilly La brasserie ouvre ses portes dimanch...</td>\n",
       "      <td>NaN</td>\n",
       "    </tr>\n",
       "    <tr>\n",
       "      <th>266</th>\n",
       "      <td>À Vannes, Dragon 56 dérouté pour retrouver deu...</td>\n",
       "      <td></td>\n",
       "      <td>too_short</td>\n",
       "    </tr>\n",
       "    <tr>\n",
       "      <th>347</th>\n",
       "      <td>Maxime Saint Bonnet, un intermittent du specta...</td>\n",
       "      <td>Enquête de la rédaction\\n\\nLes festivals, poum...</td>\n",
       "      <td>NaN</td>\n",
       "    </tr>\n",
       "    <tr>\n",
       "      <th>1914</th>\n",
       "      <td>Montagne. $content.Title</td>\n",
       "      <td>Test de skis : Salomon Stance 88 W, le meilleu...</td>\n",
       "      <td>NaN</td>\n",
       "    </tr>\n",
       "    <tr>\n",
       "      <th>1936</th>\n",
       "      <td>ROMANS-SUR-ISÈRE. Départ d’incendie au centre ...</td>\n",
       "      <td>Départ d’incendie au centre Négométal\\n\\nPar L...</td>\n",
       "      <td>NaN</td>\n",
       "    </tr>\n",
       "    <tr>\n",
       "      <th>...</th>\n",
       "      <td>...</td>\n",
       "      <td>...</td>\n",
       "      <td>...</td>\n",
       "    </tr>\n",
       "    <tr>\n",
       "      <th>97905</th>\n",
       "      <td>Loire. Gaël Perdriau fait censurer un article ...</td>\n",
       "      <td>Par Jean-Hugues ALLARD - Hier à 14:52 | mis à ...</td>\n",
       "      <td>too_short</td>\n",
       "    </tr>\n",
       "    <tr>\n",
       "      <th>98430</th>\n",
       "      <td>Dabo. La recette</td>\n",
       "      <td>Dabo La recette\\n\\nPar Le Républicain Lorrain ...</td>\n",
       "      <td>NaN</td>\n",
       "    </tr>\n",
       "    <tr>\n",
       "      <th>98517</th>\n",
       "      <td>Politique : Royaume-Uni : Penny Mordaunt aband...</td>\n",
       "      <td>IMERYS: Mine de lithium en France : un projet ...</td>\n",
       "      <td>too_short</td>\n",
       "    </tr>\n",
       "    <tr>\n",
       "      <th>99678</th>\n",
       "      <td>Momerstroff. Argent de chasse 2022</td>\n",
       "      <td>Momerstroff Argent de chasse 2022\\n\\nPar Le Ré...</td>\n",
       "      <td>NaN</td>\n",
       "    </tr>\n",
       "    <tr>\n",
       "      <th>99731</th>\n",
       "      <td>Rhône. Immeuble effondré à Chaponost: pour Lis...</td>\n",
       "      <td>Par Le Progrès - Aujourd'hui à 14:35 | mis à j...</td>\n",
       "      <td>NaN</td>\n",
       "    </tr>\n",
       "  </tbody>\n",
       "</table>\n",
       "<p>205 rows × 3 columns</p>\n",
       "</div>"
      ],
      "text/plain": [
       "                                                   title  \\\n",
       "94      Maizilly. La brasserie ouvre ses portes dimanche   \n",
       "266    À Vannes, Dragon 56 dérouté pour retrouver deu...   \n",
       "347    Maxime Saint Bonnet, un intermittent du specta...   \n",
       "1914                            Montagne. $content.Title   \n",
       "1936   ROMANS-SUR-ISÈRE. Départ d’incendie au centre ...   \n",
       "...                                                  ...   \n",
       "97905  Loire. Gaël Perdriau fait censurer un article ...   \n",
       "98430                                   Dabo. La recette   \n",
       "98517  Politique : Royaume-Uni : Penny Mordaunt aband...   \n",
       "99678                 Momerstroff. Argent de chasse 2022   \n",
       "99731  Rhône. Immeuble effondré à Chaponost: pour Lis...   \n",
       "\n",
       "                                                    text content_restrictions  \n",
       "94     Maizilly La brasserie ouvre ses portes dimanch...                  NaN  \n",
       "266                                                                 too_short  \n",
       "347    Enquête de la rédaction\\n\\nLes festivals, poum...                  NaN  \n",
       "1914   Test de skis : Salomon Stance 88 W, le meilleu...                  NaN  \n",
       "1936   Départ d’incendie au centre Négométal\\n\\nPar L...                  NaN  \n",
       "...                                                  ...                  ...  \n",
       "97905  Par Jean-Hugues ALLARD - Hier à 14:52 | mis à ...            too_short  \n",
       "98430  Dabo La recette\\n\\nPar Le Républicain Lorrain ...                  NaN  \n",
       "98517  IMERYS: Mine de lithium en France : un projet ...            too_short  \n",
       "99678  Momerstroff Argent de chasse 2022\\n\\nPar Le Ré...                  NaN  \n",
       "99731  Par Le Progrès - Aujourd'hui à 14:35 | mis à j...                  NaN  \n",
       "\n",
       "[205 rows x 3 columns]"
      ]
     },
     "execution_count": 68,
     "metadata": {},
     "output_type": "execute_result"
    }
   ],
   "source": [
    "# Find texts shorter than N chars :\n",
    "N = 100\n",
    "short_texts = df[\"text\"].str.len() < N\n",
    "\n",
    "df[short_texts][[\"title\", \"text\", \"content_restrictions\"]]"
   ]
  },
  {
   "cell_type": "markdown",
   "metadata": {},
   "source": [
    "# Explore characters"
   ]
  },
  {
   "cell_type": "markdown",
   "metadata": {},
   "source": [
    "# Bad titles"
   ]
  },
  {
   "cell_type": "code",
   "execution_count": 89,
   "metadata": {},
   "outputs": [
    {
     "name": "stdout",
     "output_type": "stream",
     "text": [
      "Economie : G-III Apparel rachète la marque Karl Lagerfeld pour $210 mlns\n",
      "2 mai (Reuters) - G-III Apparel Group, qui possède des marques telles que DKNY et Jessica Howard, a annoncé lundi le rachat de 81% de Karl Lagerfeld pour 210 millions de dollars (199 millions d'euros) en numéraire, afin de devenir l'unique propriétaire de la marque de mode parisienne.  Le fabricant de vêtements, qui a pris une participation initiale dans la marque en 2015, va acquérir le reste du capital auprès du groupe d'investisseurs dirigé par Fred Gehring d'Amlon Capital BV.  L'opération devrait être conclue au cours du deuxième ou du troisième trimestre de l'année fiscale 2023, a déclaré G-III, ajoutant que l'acquisition de la marque, lancée en 1984 par le couturier allemand Karl Lagerfeld, devrait générer au départ un chiffre d'affaires supplémentaire de 200 millions de dollars.  G-III a déclaré s'attendre à ce que la marque représente à terme plus de 2 milliards de dollars de ventes au détail.  Karl Lagerfeld, icône mondiale de la mode et emblématique directeur artistique de Chanel pendant 35 ans, est mort en 2019 à Paris à l’âge de 85 ans après avoir régné pendant plus de 60 ans sur le monde de la couture. (Reportage Deborah Sophia à Bangalore, version française Anait Miridzhanian, édité par Jean-Michel Bélot)\n",
      "\n",
      "La BoJ a acheté pour $1.000 mds d'obligations d'Etat japonaises, un record\n",
      "par Junko Fujita  TOKYO (Reuters) - La Banque du Japon (BoJ) a acheté pour 1.000 milliards de dollars (924,41 milliards d'euros) d'emprunts d'Etat nippons (JGB) sur l'année fiscale écoulée, un montant record, face aux attaques des investisseurs sur sa politique de taux d'intérêt ultra-bas.  Les achats nets d'emprunt d'Etat ont atteint le record de 135.989 milliards de yens (1.020 milliards de dollars ou 943,14 milliards d'euros) sur l'année fiscale qui s'est achevée en mars, soit près de deux fois le montant de l'année précédente, montre un rapport de la BoJ publié lundi.  \"Cela dépendra de l'environnement mondial mais la BoJ pourrait être amenée à dépenser à nouveau des montants massifs cette année si les rendements subissent une pression à la hausse et si les investisseurs reprennent leur pari sur un changement de politique monétaire\", a déclaré Keisuke Tsuruta, chez Mitsubishi UFJ Morgan Stanley Securities.  La banque centrale, qui détonne dans le contexte de resserrement monétaire opéré par les plus grandes institutions du monde, a été contrainte à des achats massifs d'obligations pour défendre sa politique de plafonnement du rendement des JGB à 10 ans.  L'inflation japonaise dépassant l'objectif fixé à 2% et les salaires des grandes entreprises étant en hausse, les investisseurs s'attendent à une modification de la politique de contrôle de la courbe des rendements de la BoJ.  Les spéculations en ce sens se sont accélérées en décembre après que la banque a surpris les marchés en tolérant une plus grande fluctuation des rendements à dix ans.  Signe que la BoJ pourrait poursuivre ses achats agressifs d'obligations, elle a relevé vendredi le montant maximum de ses achats d'emprunt d'Etat prévus pour toutes les échéances au cours des trois prochains mois.  (Avec Rocky Swift, version française Laetitia Volga, édité par Kate Entringer)\n",
      "\n",
      "La protection de l'environnement nécessite $384 mds par an d'ici 2025, selon l'Onu\n",
      "par Isla Binnie  NEW YORK (Reuters) - La protection et la meilleure gestion des écosystèmes de la planète nécessitent des investissements de 384 milliards de dollars (368 milliards d'euros) par an d'ici 2025, soit plus du double des niveaux actuels, pour faire face aux menaces du changement climatique et de la perte de ressources naturelles, a déclaré jeudi l'organisme onusien chargé de la surveillance de l'environnement.  Ce calcul servira de base au sommet sur la biodiversité qui débutera la semaine prochaine à Montréal, au Canada, où les pays tenteront de s'entendre sur un accord visant à protéger la nature et la vie sauvage contre de nouvelles pertes et dégradations.  Actuellement, 154 milliards de dollars sont dépensés chaque année, principalement par les gouvernements, pour des \"solutions fondées sur la nature\" - des actions visant à protéger et à mieux gérer les eaux, les terres, l'air et la faune sauvage - indique le Programme des Nations unies pour l'environnement (PNUE) dans un rapport.  \"Ce montant devra augmenter de plusieurs ordres de grandeur si nous voulons aborder la triple crise de la dégradation des terres, du climat et de la nature\", a déclaré Ivo Mulder, chef de l'unité du financement climatique du PNUE.  \"Environ 50% du PIB mondial dépend de la santé et du bon fonctionnement des écosystèmes (donc) cela ne devrait pas être trop difficile, même si nous traversons de multiples crises\" comme la guerre en Ukraine et la hausse de l'inflation, a-t-il ajouté.  Parallèlement, les gouvernements dépensent entre 500 milliards et 1.000 milliards de dollars par an en subventions potentiellement dommageables pour la pêche, l'agriculture et les combustibles fossiles, précise le rapport.  Plus de 100 nations se sont engagées l'an dernier dans la ville chinoise de Kunming à contribuer à la protection de la biodiversité, sans toutefois parvenir à se mettre d'accord sur des questions telles que le financement de la conservation dans les pays les plus pauvres.  La réunion cette année devait à nouveau se dérouler à Kunming, mais le lieu a été modifié en raison des restrictions liées à la pandémie de COVID-19. La Chine continuera toutefois d'en assurer la présidence.  Le dernier pacte pour la biodiversité, signé en 2010 par les dirigeants mondiaux à Aichi, au Japon, fixait des objectifs pour tenter de ralentir la perte de biodiversité d'ici 2020, mais aucun d'entre eux n'a été atteint.  Le secteur privé, qui ne contribue qu'à hauteur de 17% aux dépenses consacrées aux solutions fondées sur la nature, malgré ses engagements en matière de réduction des émissions de carbone et de la déforestation, \"devra combiner le 'net zéro' avec le 'nature positif'\", a déclaré le PNUE.  (Reportage Isla Binnie à New York ; version française Dagmarah Mackos, édité par Blandine Hénault)\n",
      "\n",
      "China Aviation Supplies va acheter 140 appareils Airbus pour environ $17 milliards\n",
      "PÉKIN (Reuters) - China Aviation Supplies Holding a signé un accord pour l'achat de 140 appareils Airbus pour environ 17 milliards de dollars (17,4 milliards d'euros), a annoncé vendredi la société chinoise.  L'accord comprend 132 avions de la série A320 et huit A350, a indiqué China Aviation Supplies Holding, ajoutant que cet achat vise à répondre à la demande du secteur du transport aérien chinois.  Airbus a précisé que cet achat faisait partie d'une commande de 292 appareils annoncée en juillet.  (Reportage Albee Zhang et Brenda Goh; version française Valentine Baldassari)\n",
      "\n",
      "TOTALENERGIES : TotalEnergies-Les rachats d'actions devraient atteindre $7 mds en 2022 - Pouyanné\n",
      "PARIS, 28 juillet (Reuters) - Les rachats d'actions de TotalEnergies devraient atteindre au moins 7 milliards de dollars (6,9 milliards d'euros) en 2022, a déclaré jeudi son PDG Patrick Pouyanné lors d'une conférence avec des analystes après la publication des résultats du groupe.  Alors que ses profits sont gonflés par la flambée des prix de l'énergie, TotalEnergies préfère partager ses bénéfices avec ses clients immédiatement plutôt que de devenir la cible d'une taxe exceptionnelle, a dit Patrick Pouyanné. (Reportage Benjamin Mallet, rédigé par Bertrand Boucey)\n",
      "\n",
      "CITRIX SYSTEMS : Elliott et Vista Equity rachètent le spécialiste du cloud Citrix pour $16,5 mds\n",
      "31 janvier (Reuters) - Le groupe américain Citrix Systems , spécialisé dans l'informatique dématérialisée (\"cloud\"), a annoncé lundi son rachat par le fonds Elliott Management et la société d'investissement Vista Equity Partners pour 16,5 milliards de dollars (14,75 milliards d'euros), dette comprise.  Selon les termes de l'accord, les actionnaires de Citrix recevront 104 dollars par action, ce qui valorise la société à près de 13 milliards de dollars.  Reuters avait rapporté dimanche qu'Elliott et Vista prévoyaient de débourser environ 13 milliards de dollars pour acquérir Citrix et tirer ainsi profit de l'engouement pour le cloud, alimenté encore par la pandémie de COVID-19.  Le prix proposé représente une prime de 24,3% par rapport à la clôture de Citrix le 20 décembre, date à laquelle les discussions sur une offre conjointe ont été rapportées pour la première fois. Il constitue toutefois une décote de 1,5% par rapport à la clôture de vendredi.  A New-York, l'action Citrix reculait lundi de 3,6% à 101,8 dollars dans les transactions en avant-Bourse.  \"L'annonce d'aujourd'hui est le point culminant d'un processus d'examen stratégique mené durant cinq mois, y compris des contacts approfondis avec des acheteurs financiers et stratégiques potentiels\", a déclaré Bob Calderoni, le directeur général par intérim de Citrix, dans un communiqué.  Le groupe, qui fournit des solutions de travail à distance et des logiciels de mise en réseau aux entreprises, n'a pas réussi à capitaliser sur l'essor du télétravail depuis la pandémie, faute d'investissement dans ses partenariats de distribution. Il a perdu 23% l'an dernier en Bourse.  Les repreneurs prévoient de retirer Citrix de la cote et de fusionner le groupe avec TIBCO Software, la société d'analyse de données de Vista. (Reportage Chavi Mehta, version française Khadija Adda-Rezig, édité par Blandine Hénault)\n",
      "\n",
      "Les démocrates veulent founir $40 milliards de plus à l'Ukraine, selon des sources\n",
      "WASHINGTON (Reuters) - Les démocrates du Congrès se sont mis d'accord sur une proposition visant à fournir 39,8 milliards de dollars d'aide supplémentaire à l'Ukraine, un montant supérieur à celui qu'ambitionne le président Joe Biden, a-t-on appris lundi de deux sources proches du dossier.  Selon ces sources, la Chambre des représentants pourrait se prononcer dès mardi sur cette proposition.  Joe Biden a prié le le Congrès 28 avril dernier d'approuver un plan d'aide de 33 milliards de dollars pour l'Ukraine, dont 20 milliards de dollars de soutien militaire.  (Patricia Zengerle; version française Nicolas Delame)\n",
      "\n",
      "Roche va racheter le spécialiste du traitement de l'obésité Carmot pour $2,7 mds\n",
      "ZURICH (Reuters) - Le géant pharmaceutique Roche a annoncé lundi être parvenu à un accord définitif pour acquérir le groupe américain Carmot Therapeutics, spécialisé dans le traitement de l'obésité, pour un montant initial de 2,7 milliards de dollars (2,49 milliards d'euros).  En plus de ce prix d'achat initial, Roche a indiqué que les actionnaires de Carmot recevront des paiements supplémentaires pouvant aller jusqu'à 400 millions de dollars si certaines étapes sont franchies.  Le portefeuille actuel de Carmot comprend des incrétines sous-cutanées et orales au stade clinique visant à traiter l'obésité chez les patients diabétiques et non diabétiques, ainsi qu'un certain nombre de programmes précliniques, a déclaré Roche dans un communiqué.  Les données cliniques concernant le CT-388, le principal médicament de Carmot pour la perte de poids, sont particulièrement encourageantes, a commenté Levi Garraway, médecin en chef du groupe.  Les employés de Carmot rejoindront la division pharmaceutique de Roche lorsque la transaction sera officiellement finalisée, ce qui est prévu pour le premier trimestre 2024.  Roche aura accès au portefeuille actuel de recherche et développement de Carmot, y compris tous les actifs cliniques et précliniques.  (Reportage Noele Illien, version française Diana Mandiá, édité par Kate Entringer)\n",
      "\n",
      "Etats-Unis: Le Sénat adopte un plan à $430 mds pour la santé et le climat\n",
      "WASHINGTON (Reuters) - Le Sénat américain a adopté dimanche un plan de 430 milliards de dollars (422 milliards d'euros) visant à combattre le changement climatique, à abaisser le prix des médicaments et à augmenter certains impôts sur les entreprises.  La loi, appelée \"Inflation Reduction Act\", a été adoptée par 51 voix contre 50, la vice-présidente Kamala Harris détenant le vote décisif.  La décision du Sénat est une victoire importante pour le président américain Joe Biden à quelques mois \"midterms\", qui détermineront le contrôle de la Chambre des représentants et du Sénat pour les deux prochaines années.  Le texte doit désormais être examiné par la Chambre des représentant, où un vote final est attendu vendredi. Joe Biden a appelé la Chambre à voter dès que possible, ajoutant qu'il avait hâte de promulguer la loi.  \"Le Sénat écrit l'Histoire\", a déclaré Chuck Schumer, le chef de la majorité démocrate au Sénat. \"Aux Américains qui ont abandonné l'idée que le Congrès pouvait accomplir de grandes choses, cette loi est pour vous.\"  \"Cette loi va changer l'Amérique pour des décennies\", a-t-il ajouté.  Ce plan vise à réduire les émissions de gaz à effet de serre et à orienter les consommateurs vers les énergies vertes, à réduire les coûts des médicaments sur ordonnance pour les personnes âgées et à renforcer la mise en oeuvre des impôts sur les entreprises.  (Reportage Richard Cowan, Rose Horowitch, David Morgan et Makini Brice; version française Camille Raynaud)\n",
      "\n"
     ]
    }
   ],
   "source": [
    "# find titles having \"$\" inside\n",
    "dollar_titles = df[\"title\"].str.contains(r\"\\$\")\n",
    "df[dollar_titles][[\"title\", \"content_restrictions\"]]\n",
    "\n",
    "#print them all along their text using a loop \n",
    "for title, text in df[dollar_titles][[\"title\", \"text\"]].values:\n",
    "    print(title)\n",
    "    print(text.replace(\"\\n\", \" \"))\n",
    "    print()"
   ]
  },
  {
   "cell_type": "code",
   "execution_count": 87,
   "metadata": {},
   "outputs": [],
   "source": [
    "# remove \"$content.Title\" from titles\n",
    "df[\"title\"] = df[\"title\"].str.replace(r\"$content.Title\", \"\")\n",
    "\n",
    "assert not df[\"title\"].str.contains(r\"$content.Title\").any()"
   ]
  },
  {
   "cell_type": "markdown",
   "metadata": {},
   "source": [
    "# Word cloud"
   ]
  },
  {
   "cell_type": "code",
   "execution_count": null,
   "metadata": {},
   "outputs": [],
   "source": []
  },
  {
   "cell_type": "markdown",
   "metadata": {},
   "source": [
    "# Data analysis :\n",
    "\n",
    "## Title / Text\n",
    "\n",
    "    Unique words\n",
    "    Most common words\n",
    "    Word cloud\n",
    "    Html tags ?\n",
    "\n",
    "## Text\n",
    "\n",
    "    Looking at very long texts\n",
    "\n",
    "## Date\n",
    "\n",
    "    Min and max\n",
    "    Distribution\n",
    "    distribution per year/ month, day. (e.g Show which weekdays are the most popular)\n",
    "\n",
    "## article\n",
    "Show a graph aof content restrictions ed on articledomain\n"
   ]
  },
  {
   "cell_type": "code",
   "execution_count": null,
   "metadata": {},
   "outputs": [],
   "source": [
    "# Url validation"
   ]
  }
 ],
 "metadata": {
  "kernelspec": {
   "display_name": "venv",
   "language": "python",
   "name": "python3"
  },
  "language_info": {
   "codemirror_mode": {
    "name": "ipython",
    "version": 3
   },
   "file_extension": ".py",
   "mimetype": "text/x-python",
   "name": "python",
   "nbconvert_exporter": "python",
   "pygments_lexer": "ipython3",
   "version": "3.9.13"
  }
 },
 "nbformat": 4,
 "nbformat_minor": 2
}
